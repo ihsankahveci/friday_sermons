{
 "nbformat": 4,
 "nbformat_minor": 2,
 "metadata": {
  "language_info": {
   "name": "python",
   "codemirror_mode": {
    "name": "ipython",
    "version": 3
   },
   "version": "3.7.6-final"
  },
  "orig_nbformat": 2,
  "file_extension": ".py",
  "mimetype": "text/x-python",
  "name": "python",
  "npconvert_exporter": "python",
  "pygments_lexer": "ipython3",
  "version": 3,
  "kernelspec": {
   "name": "python37664bitseleniumconda1f12d67c5d30468ea99f892fbd3ea3e1",
   "display_name": "Python 3.7.6 64-bit ('selenium': conda)"
  }
 },
 "cells": [
  {
   "cell_type": "code",
   "execution_count": 3,
   "metadata": {},
   "outputs": [
    {
     "name": "stderr",
     "output_type": "stream",
     "text": "[nltk_data] Downloading package wordnet to\n[nltk_data]     /Users/ihsankahveci/nltk_data...\n[nltk_data]   Package wordnet is already up-to-date!\n"
    }
   ],
   "source": [
    "import pandas as pd\n",
    "import numpy as np\n",
    "import gensim\n",
    "from gensim.utils import simple_preprocess\n",
    "from gensim.parsing.preprocessing import STOPWORDS\n",
    "from nltk.stem import WordNetLemmatizer, SnowballStemmer\n",
    "from nltk.stem.porter import * \n",
    "import nltk\n",
    "\n",
    "nltk.download('wordnet')\n",
    "np.random.seed(5757)\n"
   ]
  },
  {
   "cell_type": "code",
   "execution_count": 24,
   "metadata": {},
   "outputs": [],
   "source": [
    "corpus = pd.read_csv('sermons_df', sep=';', index_col=0)\n"
   ]
  },
  {
   "cell_type": "code",
   "execution_count": 31,
   "metadata": {},
   "outputs": [
    {
     "data": {
      "text/html": "<div>\n<style scoped>\n    .dataframe tbody tr th:only-of-type {\n        vertical-align: middle;\n    }\n\n    .dataframe tbody tr th {\n        vertical-align: top;\n    }\n\n    .dataframe thead th {\n        text-align: right;\n    }\n</style>\n<table border=\"1\" class=\"dataframe\">\n  <thead>\n    <tr style=\"text-align: right;\">\n      <th></th>\n      <th>date</th>\n      <th>sermon</th>\n    </tr>\n  </thead>\n  <tbody>\n    <tr>\n      <th>0</th>\n      <td>2019-02-01</td>\n      <td>\\nDATE: 01.02.2019\\n       [pic]RIFQ (GENTLENE...</td>\n    </tr>\n    <tr>\n      <th>1</th>\n      <td>2018-03-02</td>\n      <td>\\nLOCATION    : NATIONWIDE\\nDATE  : 02.03.2018...</td>\n    </tr>\n    <tr>\n      <th>2</th>\n      <td>2019-12-27</td>\n      <td>\\nDATE: 27.12.2019\\n                          ...</td>\n    </tr>\n    <tr>\n      <th>3</th>\n      <td>2017-08-25</td>\n      <td>LOCATION\\t: NATIONWIDE\\n\\n\\tDATE\\t: 25.08.2017...</td>\n    </tr>\n    <tr>\n      <th>4</th>\n      <td>2019-10-25</td>\n      <td>\\nDATE: 25.10.2019\\n[pic]\\n\\n              FOR...</td>\n    </tr>\n    <tr>\n      <th>...</th>\n      <td>...</td>\n      <td>...</td>\n    </tr>\n    <tr>\n      <th>152</th>\n      <td>2019-04-12</td>\n      <td>\\nDATE: 12.04.2019\\n                          ...</td>\n    </tr>\n    <tr>\n      <th>153</th>\n      <td>2017-09-01</td>\n      <td>\\nLOCATION    : NATIONWIDE\\nDATE  : 01.09.2017...</td>\n    </tr>\n    <tr>\n      <th>154</th>\n      <td>2017-02-03</td>\n      <td>\\n  LOCATION        : NATIONWIDE\\n  DATE : 03....</td>\n    </tr>\n    <tr>\n      <th>155</th>\n      <td>2019-08-23</td>\n      <td>\\nDATE: 23.08.2019\\n[pic]\\n    SOCIAL HARMS OF...</td>\n    </tr>\n    <tr>\n      <th>156</th>\n      <td>2019-11-29</td>\n      <td>\\nDATE: 29.11.2019\\n[pic]\\n    SINCERITY: THE ...</td>\n    </tr>\n  </tbody>\n</table>\n<p>157 rows × 2 columns</p>\n</div>",
      "text/plain": "           date                                             sermon\n0    2019-02-01  \\nDATE: 01.02.2019\\n       [pic]RIFQ (GENTLENE...\n1    2018-03-02  \\nLOCATION    : NATIONWIDE\\nDATE  : 02.03.2018...\n2    2019-12-27  \\nDATE: 27.12.2019\\n                          ...\n3    2017-08-25  LOCATION\\t: NATIONWIDE\\n\\n\\tDATE\\t: 25.08.2017...\n4    2019-10-25  \\nDATE: 25.10.2019\\n[pic]\\n\\n              FOR...\n..          ...                                                ...\n152  2019-04-12  \\nDATE: 12.04.2019\\n                          ...\n153  2017-09-01  \\nLOCATION    : NATIONWIDE\\nDATE  : 01.09.2017...\n154  2017-02-03  \\n  LOCATION        : NATIONWIDE\\n  DATE : 03....\n155  2019-08-23  \\nDATE: 23.08.2019\\n[pic]\\n    SOCIAL HARMS OF...\n156  2019-11-29  \\nDATE: 29.11.2019\\n[pic]\\n    SINCERITY: THE ...\n\n[157 rows x 2 columns]"
     },
     "execution_count": 31,
     "metadata": {},
     "output_type": "execute_result"
    }
   ],
   "source": [
    "corpus"
   ]
  },
  {
   "cell_type": "code",
   "execution_count": 43,
   "metadata": {},
   "outputs": [],
   "source": [
    "stemmer = SnowballStemmer('english')\n",
    "def lemmatize_stemming(text):\n",
    "    return stemmer.stem(WordNetLemmatizer().lemmatize(text, pos='v'))\n",
    "\n",
    "def preprocess(text):\n",
    "    result = []\n",
    "    for token in gensim.utils.simple_preprocess(text):\n",
    "        if token not in gensim.parsing.preprocessing.STOPWORDS and len(token) > 3:\n",
    "            result.append(lemmatize_stemming(token))\n",
    "    return result"
   ]
  },
  {
   "cell_type": "code",
   "execution_count": 41,
   "metadata": {},
   "outputs": [],
   "source": [
    "corpus_sample = corpus.sermon[1]"
   ]
  },
  {
   "cell_type": "code",
   "execution_count": 44,
   "metadata": {},
   "outputs": [
    {
     "name": "stdout",
     "output_type": "stream",
     "text": "original document: \n['\\nLOCATION', '', '', '', ':', 'NATIONWIDE\\nDATE', '', ':', '02.03.2018\\n[pic]\\n\\n', '', '', 'ETHICS', 'OF', 'COMMERCE', 'IN', 'ISLAM\\n\\n', '', '', \"Jumu'ah\", 'Mubarak,', 'Dear', 'Brothers', 'and', 'Sisters!\\n', '', '', 'The', 'Messenger', 'of', 'Allah', '(s.a.w.)', '', 'occasionally', '', 'went', '', 'to', '', 'the', '', 'market', '', 'in\\nMadinah', 'to', 'buy', 'his', 'needs.', 'He', 'watched', 'people', 'shopping', 'and', '', 'had', '', 'conversations\\nwith', 'them.', 'One', 'day', 'when', 'he', 'was', '', 'walking', '', 'around', '', 'the', '', 'marketplace,', '', 'a', '', 'wheat\\nsalesman', 'caught', 'his', 'attention.', 'The', 'wheat', 'pile', 'looked', 'dry', 'but', 'when', '', 'he', '', 'stuck\\nhis', 'hand', 'in', 'it,', 'he', 'found', 'that', 'the', '', 'bottom', '', 'of', '', 'the', '', 'sack', '', 'was', '', 'not', '', 'what', '', 'it\\nappeared', 'to', 'be.', 'The', 'fingers', '', 'of', '', 'our', '', 'Prophet', '', 'got', '', 'wet', '', 'and', '', 'he', '', 'asked', '', 'the\\nsalesman', 'why.', 'The', 'man', 'said', 'the', 'wheat', 'got', 'wet', 'by', '', 'the', '', 'rain.', '', 'Therefore,', '', 'our\\nProphet', '(s.a.w.)', 'said,', '\"Then', \"shouldn't\", 'you', 'have', 'put', '', 'the', '', 'wet', '', 'part', '', 'up', '', 'for\\npeople', 'to', 'see', 'it?\"', 'and', 'warned', 'him:', '\"Whoever', 'deceives', 'us', 'is', 'not', 'one', '', 'of', '', 'us!\"\\n[i]\\n\\n', '', '', 'Honorable', 'Believers!\\n', '', '', 'Our', 'religion', 'deems', 'it', 'essential', 'for', 'a', 'person', 'to', 'live', 'his/her', 'life', '', 'self-\\nsufficiently', 'and', 'provide', 'sustenance', 'for', 'his/her', 'family.', 'To', '', 'show', '', 'an', '', 'effort\\nto', 'earn', \"one's\", 'sustenance', 'through', 'halal', 'and', 'lawful', 'means', '', 'and', '', 'to', '', 'engage', '', 'in\\nbusiness', 'and', 'trade', 'is', 'worthy', 'of', 'praise.', 'However,', 'any', '', 'kind', '', 'of', '', 'trade', '', 'where\\none', 'does', 'not', 'respect', \"Allah's\", 'countenance,', 'the', '', 'debt', '', 'to', '', 'others', '', 'and', '', 'halal-\\nharam', 'sensitivity', 'is', 'forbidden', 'in', 'our', 'religion.', 'Indeed,', '', 'our', '', 'Almighty', '', 'Lord\\nenjoins', 'in', 'the', 'verses', 'I', 'have', 'recited', 'at', 'the', 'beginning:', '\"Woe', '', 'to', '', 'those', '', 'that\\ndeal', 'in', 'fraud.', 'Who,', 'when', 'they', 'take', 'a', 'measure', 'from', 'people,', 'take', 'in', 'full.', '', 'But\\nwhen', 'they', 'have', 'to', 'give', 'by', 'measure', 'or', 'weight', 'to', 'men,', 'give', 'less', '', 'than', '', 'due...\"\\n[ii]\\n\\n', '', '', 'Brothers', 'and', 'Sisters!\\n', '', '', 'Islam', 'has', 'provided', 'the', 'humanity', 'a', 'roadmap', 'for', 'a', 'peaceful,', '', 'balanced', '', 'and\\nrighteous', 'life.', 'It', 'has', 'also', 'set', 'some', 'principles', 'for', 'the', 'ethics', 'of', 'trade', '', 'and\\ncommerce.', 'Undoubtedly,', '', 'the', '', 'most', '', 'important', '', 'principle', '', 'of', '', 'the', '', 'ethics', '', 'of\\ncommerce', 'is', 'earning', 'through', 'halal', 'means.', 'A', 'Muslim', 'not', 'only', 'cares', '', 'about', '', 'the\\nearthly', 'profits,', 'but', 'also', 'cares', 'more', 'about', '', 'the', '', 'investments', '', 'made', '', 'for', '', 'the\\nHereafter', 'and', 'about', 'avoiding', 'any', 'haram', 'to', 'stain', 'his/her', 'earnings.', 'S/he', '', 'does\\nnot', 'sell', 'the', 'things', 'Allah', 'Almighty', 'forbids.', 'S/he', '', 'does', '', 'not', '', 'acquire', '', 'wealth\\nthrough', '', 'haram', '', 'means.', '', 'S/he', '', 'avoids', '', 'ill-gotten', '', 'gains,', '', '', 'interest,', '', '', 'black\\nmarketeering,', 'abusing', 'public', 'property', 'and', '', 'tax', '', 'evasion.', '', 'S/he', '', 'would', '', 'never\\naccept', 'a', 'monopolistic', 'and', 'opportunistic', 'attitude', 'which', 'destroys', '', 'others', '', 'and\\ntries', 'to', 'wipe', 'out', '', 'competitors.', '', 'S/he', '', 'does', '', 'not', '', 'embrace', '', 'selfishness,', '', 'but\\nembraces', 'altruism.', 'S/he', 'acts', '', 'in', '', 'accordance', '', 'with', '', 'the', '', 'idea', '', 'that', '', 'his/her\\nbrothers', 'and', 'sisters', 'should', 'also', 'gain.\\n\\n', '', '', 'Esteemed', 'Muslims!\\n', '', '', 'Another', 'principle', '', 'of', '', 'the', '', 'ethics', '', 'of', '', 'commerce', '', 'is', '', 'righteousness', '', 'and\\nhonesty.', 'It', 'is', 'being', 'explicit', 'and', 'transparent', 'in', 'trade,', 'and', '', 'avoiding', '', 'lies,\\ntricks', 'and', 'deception.', 'In', 'this', '', 'respect,', '', 'our', '', 'Prophet', '', '(s.a.w.)', '', 'said:', '', '\"The\\ntruthful,', 'trustworthy', 'merchant', 'is', 'with', 'the', 'Prophets,', 'the', 'truthful,', '', 'and', '', 'the\\nmartyrs.\"', '[iii]\\n\\n', '', '', 'Being', 'a', 'trustworthy', 'person', 'who', 'speaks', 'the', 'truth', 'is', 'an', 'essential', '', 'quality\\nof', 'a', 'believer.', 'A', 'believer', 'carries', 'the', 'consciousness', 'of', '', 'worship', '', 'in', '', 'his/her\\nevery', 'step', 'while', 's/he', '', 'strives', '', 'to', '', 'earn', '', 'halal', '', 'income.', '', 'Acting', '', 'with', '', 'this\\nconsciousness,', 'our', 'ancestors', 'formed', 'the', '\"Ahi-order\"', 'tradition', 'and', 'made', '', 'sure\\nthat', 'ethics', 'were', 'respected', 'in', 'bazaars', 'and', 'markets', 'as', 'well', 'as', 'the', '', 'law.', '', 'This\\ntradition', 'equipped', 'every', 'craftsman,', 'artisan', 'or', '', 'merchant', '', 'with', '', 'good', '', 'morals\\nand', 'spirituality', 'besides', 'the', 'professional', 'skills.', 'Throughout', '', 'history,', '', 'many\\ncommunities', 'were', 'influenced', 'by', 'the', 'commercial', 'ethics', '', 'of', '', 'Muslim', '', 'merchants,\\nthus', 'were', 'honored', 'by', 'Islam.\\n\\n', '', '', 'Dear', 'Brothers', 'and', 'Sisters!\\n', '', '', 'Our', 'Prophet', '(s.a.w.)', 'said:', '\"It', 'is', 'not', 'permissible', 'for', 'a', 'Muslim', '', 'to', '', 'sell\\nhis', 'brother', 'goods', 'in', 'which', 'there', 'is', 'a', 'defect,', 'without', 'pointing', 'that', '', 'out', '', 'to\\nhim.\"[iv]', 'Because', 'hiding', 'the', 'defects', 'of', 'goods', 'destroys', 'the', 'trust', '', 'of', '', 'people\\nand', 'takes', 'the', 'blessing', 'out', 'of', 'trade.', 'The', 'seller', 'who', 'conceals', 'the', 'truth', '', 'ends\\nin', 'defeat,', 'even', 'though', 'he', 'seems', 'to', '', 'make', '', 'a', '', 'profit', '', 'in', '', 'the', '', 'short', '', 'run.', '', 'A\\nbeliever', 'who', 'is', 'aware', 'of', 'this', 'fact', 'does', 'not', 'consider', 'every', '', 'means', '', 'allowable\\nfor', 'gaining', 'profit,', 'and', 'does', 'not', 'trade', 'temporary', 'earthly', 'goods', 'with', '', 'eternal\\nbliss', 'in', 'the', 'Hereafter.', 'S/he', 'does', 'not', 'gain', 'profit', 'or', 'interest', 'from', 'the', '', 'loss\\nof', 'others.', 'S/he', 'does', 'not', 'resort', 'to', '', 'disrupting', '', 'the', '', 'market', '', 'with', '', 'deceptive\\nadvertising', 'and', 'unfair', 'competition.\\n\\n', '', '', 'Brothers', 'and', 'Sisters!\\n', '', '', 'Another', 'important', 'matter', 'we', 'must', 'pay', 'attention', 'in', 'commerce', 'is', '', 'that', '', 'the\\noccupation', 'of', 'trade', 'should', 'not', 'interfere', 'with', '', 'our', '', 'duties', '', 'to', '', 'Allah', '', 'as', '', 'a\\nservant.', 'In', 'fact,', '', 'our', '', 'Almighty', '', 'Lord', '', 'enjoins:', '', '\"[Are]', '', 'men', '', 'whom', '', 'neither\\ncommerce', 'nor', 'sale', 'distracts', 'from', 'the', 'remembrance', 'of', '', 'Allah', '', 'and', '', 'performance\\nof', 'prayer', 'and', 'giving', 'of', 'zakah.', 'They', 'fear', 'a', 'Day', 'in', 'which', 'the', 'hearts', 'and', '', 'eyes\\nwill', '[fearfully]', 'turn', 'about.\"[v]\\n\\n', '', '', 'Unfortunately,', 'we', 'can', 'see', 'that', 'virtues', 'like', 'sensitivity', 'to', 'halal', 'income,\\ncontentment,', 'modesty,', 'honesty', 'and', 'fairness', 'weaken', '', 'day', '', 'by', '', 'day.', '', 'Greed', '', 'and\\navarice,', '', 'the', '', 'fondness', '', 'for', '', 'wealth', '', 'and', '', 'property,', '', 'luxury', '', 'and', '', 'excessive\\nconsumption', 'grow', 'like', 'a', 'snowball.\\n\\n', '', '', \"Let's\", 'review', 'our', 'lives', 'to', 'put', 'an', 'end', 'to', 'this', 'situation.', \"Let's\", '', 'construct\\nour', 'earnings', 'on', 'truth', 'and', 'sincerity.', \"Let's\", 'invest', 'in', 'things', 'that', 'are', '', 'halal,\\ngood', 'and', 'clean.', \"Let's\", 'close', 'the', 'roads', 'to', 'haram,', 'evil', 'and', 'fraud.', '', 'Let', '', 'us', '', 'be\\nbelievers', 'who', 'earn', 'for', 'the', 'countenance', 'of', 'Allah', 'and', 'spend', '', 'their', '', 'income', '', 'on\\ngoodness.\\n\\n-----------------------\\n[i]', 'Muslim,', 'Iman,', '164;', 'Darimi,', \"Buyu',\", '10.\\n[ii]', 'Mutaffifin,', '83/1-3.\\n[iii]', 'Tirmidhi,', \"Buyu',\", '4.\\n[iv]', 'Ibn', 'Majah,', 'Tijarat,', '45.\\n[v]', 'Nur,', '24/37.\\n', '', '', '', '', '', '', '', '', '', '', '', '', '', '', '', '', '', '', '', '', '', '', '', 'Issued', 'by:', 'General', 'Directorate', 'of', 'Religious', 'Services\\n\\n\\n']\n\n\n tokenized and lemmatized document: \n['locat', 'nationwid', 'date', 'ethic', 'commerc', 'islam', 'jumu', 'mubarak', 'dear', 'brother', 'sister', 'messeng', 'allah', 'occasion', 'go', 'market', 'madinah', 'need', 'watch', 'peopl', 'shop', 'convers', 'walk', 'marketplac', 'wheat', 'salesman', 'catch', 'attent', 'wheat', 'pile', 'look', 'stick', 'hand', 'sack', 'appear', 'finger', 'prophet', 'ask', 'salesman', 'say', 'wheat', 'rain', 'prophet', 'say', 'shouldn', 'peopl', 'warn', 'deceiv', 'honor', 'believ', 'religion', 'deem', 'essenti', 'person', 'live', 'life', 'self', 'suffici', 'provid', 'susten', 'famili', 'effort', 'earn', 'susten', 'halal', 'law', 'mean', 'engag', 'busi', 'trade', 'worthi', 'prais', 'kind', 'trade', 'respect', 'allah', 'counten', 'debt', 'halal', 'haram', 'sensit', 'forbid', 'religion', 'almighti', 'lord', 'enjoin', 'vers', 'recit', 'begin', 'deal', 'fraud', 'measur', 'peopl', 'measur', 'weight', 'brother', 'sister', 'islam', 'provid', 'human', 'roadmap', 'peac', 'balanc', 'righteous', 'life', 'principl', 'ethic', 'trade', 'commerc', 'undoubt', 'import', 'principl', 'ethic', 'commerc', 'earn', 'halal', 'mean', 'muslim', 'care', 'earth', 'profit', 'care', 'invest', 'avoid', 'haram', 'stain', 'earn', 'sell', 'thing', 'allah', 'almighti', 'forbid', 'acquir', 'wealth', 'haram', 'mean', 'avoid', 'get', 'gain', 'black', 'market', 'abus', 'public', 'properti', 'evas', 'accept', 'monopolist', 'opportunist', 'attitud', 'destroy', 'tri', 'wipe', 'competitor', 'embrac', 'selfish', 'embrac', 'altruism', 'act', 'accord', 'idea', 'brother', 'sister', 'gain', 'esteem', 'muslim', 'principl', 'ethic', 'commerc', 'righteous', 'honesti', 'explicit', 'transpar', 'trade', 'avoid', 'lie', 'trick', 'decept', 'respect', 'prophet', 'say', 'truth', 'trustworthi', 'merchant', 'prophet', 'truth', 'martyr', 'trustworthi', 'person', 'speak', 'truth', 'essenti', 'qualiti', 'believ', 'believ', 'carri', 'conscious', 'worship', 'step', 'strive', 'earn', 'halal', 'incom', 'act', 'conscious', 'ancestor', 'form', 'order', 'tradit', 'sure', 'ethic', 'respect', 'bazaar', 'market', 'tradit', 'equip', 'craftsman', 'artisan', 'merchant', 'good', 'moral', 'spiritu', 'profession', 'skill', 'histori', 'communiti', 'influenc', 'commerci', 'ethic', 'muslim', 'merchant', 'honor', 'islam', 'dear', 'brother', 'sister', 'prophet', 'say', 'permiss', 'muslim', 'sell', 'brother', 'good', 'defect', 'point', 'hide', 'defect', 'good', 'destroy', 'trust', 'peopl', 'take', 'bless', 'trade', 'seller', 'conceal', 'truth', 'end', 'defeat', 'profit', 'short', 'believ', 'awar', 'fact', 'consid', 'mean', 'allow', 'gain', 'profit', 'trade', 'temporari', 'earth', 'good', 'etern', 'bliss', 'gain', 'profit', 'loss', 'resort', 'disrupt', 'market', 'decept', 'advertis', 'unfair', 'competit', 'brother', 'sister', 'import', 'matter', 'attent', 'commerc', 'occup', 'trade', 'interfer', 'duti', 'allah', 'servant', 'fact', 'almighti', 'lord', 'enjoin', 'commerc', 'sale', 'distract', 'remembr', 'allah', 'perform', 'prayer', 'give', 'zakah', 'fear', 'heart', 'eye', 'fear', 'turn', 'unfortun', 'virtu', 'like', 'sensit', 'halal', 'incom', 'content', 'modesti', 'honesti', 'fair', 'weaken', 'greed', 'avaric', 'fond', 'wealth', 'properti', 'luxuri', 'excess', 'consumpt', 'grow', 'like', 'snowbal', 'review', 'live', 'situat', 'construct', 'earn', 'truth', 'sincer', 'invest', 'thing', 'halal', 'good', 'clean', 'close', 'road', 'haram', 'evil', 'fraud', 'believ', 'earn', 'counten', 'allah', 'spend', 'incom', 'good', 'muslim', 'iman', 'darimi', 'buyu', 'mutaffifin', 'tirmidhi', 'buyu', 'majah', 'tijarat', 'issu', 'general', 'director', 'religi', 'servic']\n"
    }
   ],
   "source": [
    "print('original document: ')\n",
    "words = []\n",
    "for word in corpus_sample.split(' '):\n",
    "    words.append(word)\n",
    "print(words)\n",
    "print('\\n\\n tokenized and lemmatized document: ')\n",
    "print(preprocess(corpus_sample))"
   ]
  },
  {
   "cell_type": "code",
   "execution_count": null,
   "metadata": {},
   "outputs": [],
   "source": []
  }
 ]
}