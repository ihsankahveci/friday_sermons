{
 "nbformat": 4,
 "nbformat_minor": 2,
 "metadata": {
  "language_info": {
   "name": "python",
   "codemirror_mode": {
    "name": "ipython",
    "version": 3
   },
   "version": "3.8.0-final"
  },
  "orig_nbformat": 2,
  "file_extension": ".py",
  "mimetype": "text/x-python",
  "name": "python",
  "npconvert_exporter": "python",
  "pygments_lexer": "ipython3",
  "version": 3,
  "kernelspec": {
   "name": "python37664bitseleniumconda1f12d67c5d30468ea99f892fbd3ea3e1",
   "display_name": "Python 3.7.6 64-bit ('selenium': conda)"
  }
 },
 "cells": [
  {
   "cell_type": "code",
   "execution_count": 1,
   "metadata": {},
   "outputs": [],
   "source": [
    "import textract\n",
    "import pandas as pd \n",
    "from pathlib import Path\n",
    "import re\n",
    "from datetime import datetime"
   ]
  },
  {
   "cell_type": "code",
   "execution_count": 2,
   "metadata": {},
   "outputs": [],
   "source": [
    "def dateParser(text):\n",
    "    for i in range(1,100,1):\n",
    "        if text[i] == ':' and (text[i+5] in ['0','1','2','3','4','5','6','7','8','9','.','/','-']):\n",
    "            letters = [text[i+j] for j in range(2,12)]\n",
    "            date_str = \"\".join(letters) \n",
    "    \n",
    "    return(date_str)\n"
   ]
  },
  {
   "cell_type": "code",
   "execution_count": 3,
   "metadata": {},
   "outputs": [],
   "source": [
    "entries = Path('../sermon_scraper/sermons-en')\n",
    "\n",
    "files = [entry for entry in entries.iterdir() if entry.is_file() if str(entry) != '../sermon_scraper/sermons-en/.DS_Store']"
   ]
  },
  {
   "cell_type": "code",
   "execution_count": 4,
   "metadata": {},
   "outputs": [
    {
     "name": "stdout",
     "output_type": "stream",
     "text": "158\n../sermon_scraper/sermons-en/Rifq (Gentleness) - Allah Loves Graciousness in All Affairs.doc\n../sermon_scraper/sermons-en/Ethics Of Commerce In Islam.doc\n../sermon_scraper/sermons-en/A Life Full of Contemplation.doc\n../sermon_scraper/sermons-en/Sacrıfıce, The Search For Beıng Close To Allah.docx\n../sermon_scraper/sermons-en/For Our Soldiers (Mehmetçik) Are All Our Prayers.doc\n../sermon_scraper/sermons-en/The First Message Of Revelation To Humanity Read!.doc\n../sermon_scraper/sermons-en/Funeral Etiquette - Last Duties for the Traveler of the Eternal Life.doc\n../sermon_scraper/sermons-en/Worship & The Spiritual World.doc\n../sermon_scraper/sermons-en/Preservation of Family Environment - A Righteous and Peaceful Future.docx\n../sermon_scraper/sermons-en/July 15 – Rebirth of a Nation.doc\n../sermon_scraper/sermons-en/Al-Quds - Our Never-Ceasing Pain.doc\n../sermon_scraper/sermons-en/MERCY AND FORGIVENESS DOOR REPENTANCE.doc\n../sermon_scraper/sermons-en/Ramadan and Infaq.doc\n../sermon_scraper/sermons-en/Faith in Allah.doc\n../sermon_scraper/sermons-en/The Turkish Victory Of The Battle Of Gallipoli And The Esprit De Corps,.doc\n../sermon_scraper/sermons-en/Usury - Illicit Earning.docx\n../sermon_scraper/sermons-en/A Blessing Worth the Worlds - Health.doc\n../sermon_scraper/sermons-en/İng hutbe2.doc\n../sermon_scraper/sermons-en/The Way Of Making Life Livable Religion And Spirituality.doc\n../sermon_scraper/sermons-en/Today, We Unite Against Terrorism.doc\n../sermon_scraper/sermons-en/Pure Food, Pure Generation.doc\n../sermon_scraper/sermons-en/Believer, The Role Model.doc\n../sermon_scraper/sermons-en/Wise Pieces Of Advıce.docx\n../sermon_scraper/sermons-en/İngilizce.docx\n../sermon_scraper/sermons-en/Material and Spiritual Purification - Cleanliness.doc\n../sermon_scraper/sermons-en/Let Us Protect Our Home Planet Earth.doc\n../sermon_scraper/sermons-en/Individual and Public Rights.docx\n../sermon_scraper/sermons-en/Haya’ (Pious Shyness) The Essence Of Islamic Morality.docx\n../sermon_scraper/sermons-en/The Mawlid al-Nabi.doc\n../sermon_scraper/sermons-en/Eid Al Adha..doc\n../sermon_scraper/sermons-en/False Beliefs and Superstitions.doc\n../sermon_scraper/sermons-en/Are Those Who Know Equal With Those Who Know Not.docx\n../sermon_scraper/sermons-en/Turn To Your Lord Alone With Hope!.docx\n../sermon_scraper/sermons-en/Our Hope For Tomorrow Children.doc\n../sermon_scraper/sermons-en/Muslims Are Precursors of Knowledge and Civilization.doc\n../sermon_scraper/sermons-en/Our Nation’s Struggle For Existence The Victory Of Çanakkale.docx\n../sermon_scraper/sermons-en/This Homeland is Ours and under Our Protection.doc\n../sermon_scraper/sermons-en/Every Soul Has A Right Upon Us.doc\n../sermon_scraper/sermons-en/To Be a Responsible Father.doc\n../sermon_scraper/sermons-en/Faithful Servants Of The Compassionate.docx\n../sermon_scraper/sermons-en/Divine Yeast Of Existence Mercy.docx\n../sermon_scraper/sermons-en/Opfertierschlachten Gibt Anlass Für Annährung An Allah.doc\n../sermon_scraper/sermons-en/Making Our Whole Life Ramadan.docx\n../sermon_scraper/sermons-en/Kurban İNgilizce.docx\n../sermon_scraper/sermons-en/~$ilat Al-Qadr The Night Honored By The Qur’an.doc\n../sermon_scraper/sermons-en/Working Enriches Our Lives.doc\n../sermon_scraper/sermons-en/Facts Taught By Surah Al-Asr.docx\n../sermon_scraper/sermons-en/Ethıcs Of Trade And Commerce.doc\n../sermon_scraper/sermons-en/Lailat Al-Qadr The Night Honored By The Qur’an.docx\n../sermon_scraper/sermons-en/Friday Prayer And Its Customs.docx\n../sermon_scraper/sermons-en/The Bond between Allah and His Servants.doc\n../sermon_scraper/sermons-en/The Inviolable Right to Life.doc\n../sermon_scraper/sermons-en/A Dagger In The Back Of Brotherhood Backbiting.doc\n../sermon_scraper/sermons-en/The Prophet And Safe Society.docx\n../sermon_scraper/sermons-en/Neglecting Prayer Is A Great Loss.doc\n../sermon_scraper/sermons-en/Inheriting Al Firdaws.docx\n../sermon_scraper/sermons-en/The test of our faith and humanity - The refugees.doc\n../sermon_scraper/sermons-en/The Thing That Increases By Sharing Goodness.doc\n../sermon_scraper/sermons-en/To Be Able To Be A Servant Allah Loves.doc\n../sermon_scraper/sermons-en/Welcome the Month of Ramadan.doc\n../sermon_scraper/sermons-en/Jihad - The Struggle In Allah’s Cause With One’s Life And Wealth_Revised.doc\n../sermon_scraper/sermons-en/Spending a Life with the Awareness of Servitude to Allah.docx\n../sermon_scraper/sermons-en/Wedding Etiquette.docx\n../sermon_scraper/sermons-en/Secularization Delight In The Temporary Life.doc\n../sermon_scraper/sermons-en/The Qur'an and the Sunnah Are An Inseparable Whole.doc\n../sermon_scraper/sermons-en/Make Sacrifice for Your Lord.doc\n../sermon_scraper/sermons-en/Çanakkale Where Martyrs Made History.doc\n../sermon_scraper/sermons-en/Technology Addiction and Social Media Ethics.doc\n../sermon_scraper/sermons-en/Towards the Spiritual Climate of the Three Holy Months.doc\n../sermon_scraper/sermons-en/Epitome Of Insincerity Hypocrisy.doc\n../sermon_scraper/sermons-en/Family - Home of Justice and Benevolence.docx\n../sermon_scraper/sermons-en/The Believer Trusts Others And Is Trusted.doc\n../sermon_scraper/sermons-en/Let’s Learn Quran In The Month Of Quran.doc\n../sermon_scraper/sermons-en/Those Who Forget Allah Will Be Forgotten.docx\n../sermon_scraper/sermons-en/Best Description Of Refuge In Allah Surah Al-Mu'awwidhatan.docx\n../sermon_scraper/sermons-en/To Stand By The Truth, And Against The Falsehood.doc\n../sermon_scraper/sermons-en/Good Deeds That Lead To Allah’s Countenance.doc\n../sermon_scraper/sermons-en/Adding Barakah to Our Brotherhood with Zakat and Sadaqah al-Fitr.doc\n../sermon_scraper/sermons-en/The Bond Allah Wants Us To Maintain Family Ties.docx\n../sermon_scraper/sermons-en/The Month of Muharram and the Day of Ashura.doc\n../sermon_scraper/sermons-en/The Three Sacred Months The Season of Blessings.doc\n../sermon_scraper/sermons-en/The Relationship Between Faith And Deeds.doc\n../sermon_scraper/sermons-en/The Hijrah.doc\n../sermon_scraper/sermons-en/The Barakah of Business Life - Work Ethics.doc\n../sermon_scraper/sermons-en/Lailat al-Mi'raj.doc\n../sermon_scraper/sermons-en/Our Irreplaceable Wealth Life.doc\n../sermon_scraper/sermons-en/Addiction is a Trap.doc\n../sermon_scraper/sermons-en/Our Unending Sorrow Jerusale And Masjid Al-Aqsa.docx\n../sermon_scraper/sermons-en/To Be A Grateful Servant.doc\n../sermon_scraper/sermons-en/Being True in Essence and Words.doc\n../sermon_scraper/sermons-en/Zakat, Increases Gaıns; Usury Consumes It.docx\n../sermon_scraper/sermons-en/Physical Privacy and Islamic Dressing.doc\n../sermon_scraper/sermons-en/Mosques Full of Children, Children Full of Qur'anic Manners.docx\n../sermon_scraper/sermons-en/The Name Of Penitence And Hope Repentance.doc\n../sermon_scraper/sermons-en/Ramadan - The Month of Fasting and Qur'an.doc\n../sermon_scraper/sermons-en/Mawlid An-Nabi.docx\n../sermon_scraper/sermons-en/ingilizce hutbe.doc\n../sermon_scraper/sermons-en/Our Fight, and Spirit of Unity and Solidarity in the Cause of Allah.docx\n../sermon_scraper/sermons-en/A Good Muslım Accordıng To The Prophet Muhammad (Saw).doc\n../sermon_scraper/sermons-en/Mosques, and Lives Dedicated in Service of Religion.doc\n../sermon_scraper/sermons-en/Foundations - Ever-Flowing Fountains of Benevolence.docx\n../sermon_scraper/sermons-en/Our Bleeding Wound Al- Quds.docx\n../sermon_scraper/sermons-en/Fosterıng A Greater Awareness Of Natural Dısasters.doc\n../sermon_scraper/sermons-en/Some Du'as in the Words of Prophet Muhammad (saw).doc\n../sermon_scraper/sermons-en/Etiquette to Follow in Mosques and Congregation.doc\n../sermon_scraper/sermons-en/A Sacred Journey Hajj.doc\n../sermon_scraper/sermons-en/Women in Islam - Justice, Mercy And Fairness.docx\n../sermon_scraper/sermons-en/Salah - Our Struggle to Getting Closer to Allah.doc\n../sermon_scraper/sermons-en/To Stand by The Oppressed.docx\n../sermon_scraper/sermons-en/Humility Exalts Us.doc\n../sermon_scraper/sermons-en/Persecution, Doesn’t Last Forever.docx\n../sermon_scraper/sermons-en/Compassion and Kindness Language in the Family.doc\n../sermon_scraper/sermons-en/Allah Is The One Who Creates, Gives Life And Guidance.doc\n../sermon_scraper/sermons-en/Living A Life With The Awareness Of Responsibility.doc\n../sermon_scraper/sermons-en/Messages to Believers from the Beautiful Names of Allah.doc\n../sermon_scraper/sermons-en/The Glorious Resistance That Salas Bore Witness; 15 Temmuz.doc\n../sermon_scraper/sermons-en/Mosques and Life.doc\n../sermon_scraper/sermons-en/Allah The Almighty Gives Each Rightholder Their Rights.doc\n../sermon_scraper/sermons-en/Al-Quds (Jerusalem) is an Islamic Land and Belongs to Muslims.doc\n../sermon_scraper/sermons-en/Man's Journey To Perfection Islam, Faith And Beneficence.doc\n../sermon_scraper/sermons-en/The Religion Before Allah Is Islam.docx\n../sermon_scraper/sermons-en/Mawlid al-Nabi.doc\n../sermon_scraper/sermons-en/Giving A Beautiful Name – One Of The Rights Of Children On Parents.DOC\n../sermon_scraper/sermons-en/The Islamic Attitude towards Calamities.doc\n../sermon_scraper/sermons-en/Summer Courses Of Qur’an And Their Importance.DOC\n../sermon_scraper/sermons-en/Muslims Are Beneficent Neighbours.doc\n../sermon_scraper/sermons-en/Taking Good Care of the Elderly Makes Life Blessed.doc\n../sermon_scraper/sermons-en/Friday, The Best Day On Which.doc\n../sermon_scraper/sermons-en/Sunnah The Prophetıc Guıdance.docx\n../sermon_scraper/sermons-en/Being a Family and Remaining as a Family.doc\n../sermon_scraper/sermons-en/True Freedom Serving Allah.doc\n../sermon_scraper/sermons-en/Commemoration of the July 15 and Comprehension of the Betrayal.docx\n../sermon_scraper/sermons-en/Worship - Awareness of Servitude to Allah.docx\n../sermon_scraper/sermons-en/Effort is from Believers, Victory is from Allah.doc\n../sermon_scraper/sermons-en/Ceaseless Charity (Sadaqah Jariyah).doc\n../sermon_scraper/sermons-en/Today Is the Day of Unity and Solidarity.doc\n../sermon_scraper/sermons-en/Human, Faith and Life.doc\n../sermon_scraper/sermons-en/İng hutbe.doc\n../sermon_scraper/sermons-en/Taqwa - The Best Provision.doc\n../sermon_scraper/sermons-en/The Bridge Of Trust And Love Greeting.docx\n../sermon_scraper/sermons-en/Hunger Of Fasting Cures Greed,.docx\n../sermon_scraper/sermons-en/Only Through Goodness We Can Prevent Evil.docx\n../sermon_scraper/sermons-en/The Mosque  The City and The Civilization.docx\n../sermon_scraper/sermons-en/Our Heaven On Earth The Family.docx\n../sermon_scraper/sermons-en/Believers The Guarantee Of A Peaceful Society.doc\n../sermon_scraper/sermons-en/download.aspx?SourceUrl=%2FDinHizmetleriGenelMudurlugu%2FHutbelerListesiIngilizce%2FThe Truths We Learn From Ayat Al Kursi.docx\n../sermon_scraper/sermons-en/Lailat al-Bara'ah.doc\n../sermon_scraper/sermons-en/Sensıtıvıty To Halal And Haram.doc\n../sermon_scraper/sermons-en/Eid al-Fitr.doc\n../sermon_scraper/sermons-en/Enjoy, Waste not.docx\n../sermon_scraper/sermons-en/Preparedness Agaınst Dısasters For A Safe And Secure Lıfe.docx\n../sermon_scraper/sermons-en/Wastage is a Religious and Moral Failure.docx\n../sermon_scraper/sermons-en/Goodness Increases When Shared.doc\n../sermon_scraper/sermons-en/Iman and Its Reflections on Our Lives.doc\n../sermon_scraper/sermons-en/Cuma İngilizce Hutbe.doc\n../sermon_scraper/sermons-en/Marrıage As A Pact, Agreement, And Oath.doc\n../sermon_scraper/sermons-en/Social Harms Of İnterest.doc\n../sermon_scraper/sermons-en/Sincerity - The Essence of Faith.doc\n"
    }
   ],
   "source": [
    "print(len(files))\n",
    "print(*files, sep = '\\n')"
   ]
  },
  {
   "cell_type": "code",
   "execution_count": 5,
   "metadata": {},
   "outputs": [],
   "source": [
    "rows_list = []\n",
    "missing_list = []\n",
    "for file in files:\n",
    "    dict1 = dict.fromkeys(['date','sermon']) \n",
    "    try:\n",
    "        text = textract.process(file).decode(\"utf-8\")\n",
    "        date = dateParser(text)\n",
    "        dict1.update({'date': date, 'sermon': text}) \n",
    "        rows_list.append(dict1)\n",
    "    except: \n",
    "        missing_list.append(file)\n",
    "        continue\n",
    "        \n",
    "corpus = pd.DataFrame(rows_list)    "
   ]
  },
  {
   "cell_type": "code",
   "execution_count": 6,
   "metadata": {},
   "outputs": [
    {
     "name": "stdout",
     "output_type": "stream",
     "text": "date                                             sermon\n0    01.02.2019  \\nDATE: 01.02.2019\\n       [pic]RIFQ (GENTLENE...\n1    02.03.2018  \\nLOCATION    : NATIONWIDE\\nDATE  : 02.03.2018...\n2    27.12.2019  \\nDATE: 27.12.2019\\n                          ...\n3    25.08.2017  LOCATION\\t: NATIONWIDE\\n\\n\\tDATE\\t: 25.08.2017...\n4    25.10.2019  \\nDATE: 25.10.2019\\n[pic]\\n\\n              FOR...\n..          ...                                                ...\n152  12.04.2019  \\nDATE: 12.04.2019\\n                          ...\n153  01.09.2017  \\nLOCATION    : NATIONWIDE\\nDATE  : 01.09.2017...\n154  03.02.2017  \\n  LOCATION        : NATIONWIDE\\n  DATE : 03....\n155  23.08.2019  \\nDATE: 23.08.2019\\n[pic]\\n    SOCIAL HARMS OF...\n156  29.11.2019  \\nDATE: 29.11.2019\\n[pic]\\n    SINCERITY: THE ...\n\n[157 rows x 2 columns]\n../sermon_scraper/sermons-en/~$ilat Al-Qadr The Night Honored By The Qur’an.doc\n"
    }
   ],
   "source": [
    "print(corpus)\n",
    "print(*missing_list, sep='\\n') #the problem is date format. ex: Jun 27"
   ]
  },
  {
   "cell_type": "markdown",
   "metadata": {},
   "source": [
    "If there are a lot of files in the missing_list, use bottom chunk to find out the problem."
   ]
  },
  {
   "cell_type": "code",
   "execution_count": null,
   "metadata": {},
   "outputs": [],
   "source": [
    "a = textract.process(missing_list[3]).decode(\"utf-8\")\n",
    "print(a)\n",
    "dateParser(a)"
   ]
  },
  {
   "cell_type": "code",
   "execution_count": 7,
   "metadata": {},
   "outputs": [],
   "source": [
    "corpus.date = pd.to_datetime(corpus.date, dayfirst=True)"
   ]
  },
  {
   "cell_type": "code",
   "execution_count": 8,
   "metadata": {},
   "outputs": [
    {
     "data": {
      "text/html": "<div>\n<style scoped>\n    .dataframe tbody tr th:only-of-type {\n        vertical-align: middle;\n    }\n\n    .dataframe tbody tr th {\n        vertical-align: top;\n    }\n\n    .dataframe thead th {\n        text-align: right;\n    }\n</style>\n<table border=\"1\" class=\"dataframe\">\n  <thead>\n    <tr style=\"text-align: right;\">\n      <th></th>\n      <th>date</th>\n      <th>sermon</th>\n    </tr>\n  </thead>\n  <tbody>\n    <tr>\n      <th>0</th>\n      <td>2019-02-01</td>\n      <td>\\nDATE: 01.02.2019\\n       [pic]RIFQ (GENTLENE...</td>\n    </tr>\n    <tr>\n      <th>1</th>\n      <td>2018-03-02</td>\n      <td>\\nLOCATION    : NATIONWIDE\\nDATE  : 02.03.2018...</td>\n    </tr>\n    <tr>\n      <th>2</th>\n      <td>2019-12-27</td>\n      <td>\\nDATE: 27.12.2019\\n                          ...</td>\n    </tr>\n    <tr>\n      <th>3</th>\n      <td>2017-08-25</td>\n      <td>LOCATION\\t: NATIONWIDE\\n\\n\\tDATE\\t: 25.08.2017...</td>\n    </tr>\n    <tr>\n      <th>4</th>\n      <td>2019-10-25</td>\n      <td>\\nDATE: 25.10.2019\\n[pic]\\n\\n              FOR...</td>\n    </tr>\n    <tr>\n      <th>...</th>\n      <td>...</td>\n      <td>...</td>\n    </tr>\n    <tr>\n      <th>152</th>\n      <td>2019-04-12</td>\n      <td>\\nDATE: 12.04.2019\\n                          ...</td>\n    </tr>\n    <tr>\n      <th>153</th>\n      <td>2017-09-01</td>\n      <td>\\nLOCATION    : NATIONWIDE\\nDATE  : 01.09.2017...</td>\n    </tr>\n    <tr>\n      <th>154</th>\n      <td>2017-02-03</td>\n      <td>\\n  LOCATION        : NATIONWIDE\\n  DATE : 03....</td>\n    </tr>\n    <tr>\n      <th>155</th>\n      <td>2019-08-23</td>\n      <td>\\nDATE: 23.08.2019\\n[pic]\\n    SOCIAL HARMS OF...</td>\n    </tr>\n    <tr>\n      <th>156</th>\n      <td>2019-11-29</td>\n      <td>\\nDATE: 29.11.2019\\n[pic]\\n    SINCERITY: THE ...</td>\n    </tr>\n  </tbody>\n</table>\n<p>157 rows × 2 columns</p>\n</div>",
      "text/plain": "          date                                             sermon\n0   2019-02-01  \\nDATE: 01.02.2019\\n       [pic]RIFQ (GENTLENE...\n1   2018-03-02  \\nLOCATION    : NATIONWIDE\\nDATE  : 02.03.2018...\n2   2019-12-27  \\nDATE: 27.12.2019\\n                          ...\n3   2017-08-25  LOCATION\\t: NATIONWIDE\\n\\n\\tDATE\\t: 25.08.2017...\n4   2019-10-25  \\nDATE: 25.10.2019\\n[pic]\\n\\n              FOR...\n..         ...                                                ...\n152 2019-04-12  \\nDATE: 12.04.2019\\n                          ...\n153 2017-09-01  \\nLOCATION    : NATIONWIDE\\nDATE  : 01.09.2017...\n154 2017-02-03  \\n  LOCATION        : NATIONWIDE\\n  DATE : 03....\n155 2019-08-23  \\nDATE: 23.08.2019\\n[pic]\\n    SOCIAL HARMS OF...\n156 2019-11-29  \\nDATE: 29.11.2019\\n[pic]\\n    SINCERITY: THE ...\n\n[157 rows x 2 columns]"
     },
     "execution_count": 8,
     "metadata": {},
     "output_type": "execute_result"
    }
   ],
   "source": [
    "corpus"
   ]
  },
  {
   "cell_type": "code",
   "execution_count": null,
   "metadata": {},
   "outputs": [],
   "source": [
    "corpus.to_csv('sermons_df', sep=';')"
   ]
  }
 ]
}