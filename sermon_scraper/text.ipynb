{
 "nbformat": 4,
 "nbformat_minor": 2,
 "metadata": {
  "language_info": {
   "name": "python",
   "codemirror_mode": {
    "name": "ipython",
    "version": 3
   },
   "version": "3.7.6-final"
  },
  "orig_nbformat": 2,
  "file_extension": ".py",
  "mimetype": "text/x-python",
  "name": "python",
  "npconvert_exporter": "python",
  "pygments_lexer": "ipython3",
  "version": 3,
  "kernelspec": {
   "name": "python37664bitseleniumconda1f12d67c5d30468ea99f892fbd3ea3e1",
   "display_name": "Python 3.7.6 64-bit ('selenium': conda)"
  }
 },
 "cells": [
  {
   "cell_type": "code",
   "execution_count": 211,
   "metadata": {},
   "outputs": [],
   "source": [
    "import textract\n",
    "import pandas as pd \n",
    "import numpy as np \n",
    "from pathlib import Path\n",
    "import re\n",
    "from datetime import datetime"
   ]
  },
  {
   "cell_type": "code",
   "execution_count": 291,
   "metadata": {},
   "outputs": [],
   "source": [
    "def dateParser(text):\n",
    "    for i in range(1,100,1):\n",
    "        if text[i] == ':' and (text[i+5] in ['0','1','2','3','4','5','6','7','8','9']):\n",
    "            letters = [text[i+j] for j in range(2,12)]\n",
    "            date_str = \"\".join(letters) \n",
    "    \n",
    "    return(date_str)\n"
   ]
  },
  {
   "cell_type": "code",
   "execution_count": 244,
   "metadata": {},
   "outputs": [],
   "source": [
    "entries = Path('../sermon_scraper/sermons-en')\n",
    "\n",
    "files = [entry for entry in entries.iterdir() if entry.is_file()]"
   ]
  },
  {
   "cell_type": "code",
   "execution_count": 245,
   "metadata": {},
   "outputs": [
    {
     "name": "stdout",
     "output_type": "stream",
     "text": "../sermon_scraper/sermons-en/Rifq (Gentleness) - Allah Loves Graciousness in All Affairs.doc\n../sermon_scraper/sermons-en/Ethics Of Commerce In Islam.doc\n../sermon_scraper/sermons-en/A Life Full of Contemplation.doc\n../sermon_scraper/sermons-en/Sacrıfıce, The Search For Beıng Close To Allah.docx\n../sermon_scraper/sermons-en/For Our Soldiers (Mehmetçik) Are All Our Prayers.doc\n../sermon_scraper/sermons-en/The First Message Of Revelation To Humanity Read!.doc\n../sermon_scraper/sermons-en/Funeral Etiquette - Last Duties for the Traveler of the Eternal Life.doc\n../sermon_scraper/sermons-en/Worship & The Spiritual World.doc\n../sermon_scraper/sermons-en/Preservation of Family Environment - A Righteous and Peaceful Future.docx\n../sermon_scraper/sermons-en/July 15 – Rebirth of a Nation.doc\n../sermon_scraper/sermons-en/Wedding Etiquette.doc\n../sermon_scraper/sermons-en/Al-Quds - Our Never-Ceasing Pain.doc\n../sermon_scraper/sermons-en/MERCY AND FORGIVENESS DOOR REPENTANCE.doc\n../sermon_scraper/sermons-en/Ramadan and Infaq.doc\n../sermon_scraper/sermons-en/Faith in Allah.doc\n../sermon_scraper/sermons-en/The Turkish Victory Of The Battle Of Gallipoli And The Esprit De Corps,.doc\n../sermon_scraper/sermons-en/Usury - Illicit Earning.docx\n../sermon_scraper/sermons-en/A Blessing Worth the Worlds - Health.doc\n../sermon_scraper/sermons-en/İng hutbe2.doc\n../sermon_scraper/sermons-en/The Way Of Making Life Livable Religion And Spirituality.doc\n../sermon_scraper/sermons-en/Today, We Unite Against Terrorism.doc\n../sermon_scraper/sermons-en/Pure Food, Pure Generation.doc\n../sermon_scraper/sermons-en/Believer, The Role Model.doc\n../sermon_scraper/sermons-en/Foundations - Ever-Flowing Fountains of Benevolence.doc\n../sermon_scraper/sermons-en/Wise Pieces Of Advıce.docx\n../sermon_scraper/sermons-en/İngilizce.docx\n../sermon_scraper/sermons-en/Material and Spiritual Purification - Cleanliness.doc\n../sermon_scraper/sermons-en/Let Us Protect Our Home Planet Earth.doc\n../sermon_scraper/sermons-en/.DS_Store\n../sermon_scraper/sermons-en/Individual and Public Rights.docx\n../sermon_scraper/sermons-en/Haya’ (Pious Shyness) The Essence Of Islamic Morality.docx\n../sermon_scraper/sermons-en/The Mawlid al-Nabi.doc\n../sermon_scraper/sermons-en/Eid Al Adha..doc\n../sermon_scraper/sermons-en/False Beliefs and Superstitions.doc\n../sermon_scraper/sermons-en/Are Those Who Know Equal With Those Who Know Not.docx\n../sermon_scraper/sermons-en/Turn To Your Lord Alone With Hope!.docx\n../sermon_scraper/sermons-en/Our Hope For Tomorrow Children.doc\n../sermon_scraper/sermons-en/Muslims Are Precursors of Knowledge and Civilization.doc\n../sermon_scraper/sermons-en/Our Nation’s Struggle For Existence The Victory Of Çanakkale.docx\n../sermon_scraper/sermons-en/This Homeland is Ours and under Our Protection.doc\n../sermon_scraper/sermons-en/Every Soul Has A Right Upon Us.doc\n../sermon_scraper/sermons-en/To Be a Responsible Father.doc\n../sermon_scraper/sermons-en/Faithful Servants Of The Compassionate.docx\n../sermon_scraper/sermons-en/Divine Yeast Of Existence Mercy.docx\n../sermon_scraper/sermons-en/Opfertierschlachten Gibt Anlass Für Annährung An Allah.doc\n../sermon_scraper/sermons-en/Making Our Whole Life Ramadan.docx\n../sermon_scraper/sermons-en/Kurban İNgilizce.docx\n../sermon_scraper/sermons-en/Working Enriches Our Lives.doc\n../sermon_scraper/sermons-en/Facts Taught By Surah Al-Asr.docx\n../sermon_scraper/sermons-en/Ethıcs Of Trade And Commerce.doc\n../sermon_scraper/sermons-en/Friday Prayer And Its Customs.docx\n../sermon_scraper/sermons-en/The Bond between Allah and His Servants.doc\n../sermon_scraper/sermons-en/The Inviolable Right to Life.doc\n../sermon_scraper/sermons-en/A Dagger In The Back Of Brotherhood Backbiting.doc\n../sermon_scraper/sermons-en/The Prophet And Safe Society.docx\n../sermon_scraper/sermons-en/Neglecting Prayer Is A Great Loss.doc\n../sermon_scraper/sermons-en/Inheriting Al Firdaws.docx\n../sermon_scraper/sermons-en/The test of our faith and humanity - The refugees.doc\n../sermon_scraper/sermons-en/The Thing That Increases By Sharing Goodness.doc\n../sermon_scraper/sermons-en/To Be Able To Be A Servant Allah Loves.doc\n../sermon_scraper/sermons-en/Welcome the Month of Ramadan.doc\n../sermon_scraper/sermons-en/Jihad - The Struggle In Allah’s Cause With One’s Life And Wealth_Revised.doc\n../sermon_scraper/sermons-en/Spending a Life with the Awareness of Servitude to Allah.docx\n../sermon_scraper/sermons-en/Secularization Delight In The Temporary Life.doc\n../sermon_scraper/sermons-en/The Qur'an and the Sunnah Are An Inseparable Whole.doc\n../sermon_scraper/sermons-en/Make Sacrifice for Your Lord.doc\n../sermon_scraper/sermons-en/Çanakkale Where Martyrs Made History.doc\n../sermon_scraper/sermons-en/Technology Addiction and Social Media Ethics.doc\n../sermon_scraper/sermons-en/Towards the Spiritual Climate of the Three Holy Months.doc\n../sermon_scraper/sermons-en/Epitome Of Insincerity Hypocrisy.doc\n../sermon_scraper/sermons-en/The Believer Trusts Others And Is Trusted.doc\n../sermon_scraper/sermons-en/Let’s Learn Quran In The Month Of Quran.doc\n../sermon_scraper/sermons-en/Those Who Forget Allah Will Be Forgotten.docx\n../sermon_scraper/sermons-en/Best Description Of Refuge In Allah Surah Al-Mu'awwidhatan.docx\n../sermon_scraper/sermons-en/To Stand By The Truth, And Against The Falsehood.doc\n../sermon_scraper/sermons-en/Good Deeds That Lead To Allah’s Countenance.doc\n../sermon_scraper/sermons-en/Adding Barakah to Our Brotherhood with Zakat and Sadaqah al-Fitr.doc\n../sermon_scraper/sermons-en/The Bond Allah Wants Us To Maintain Family Ties.docx\n../sermon_scraper/sermons-en/The Month of Muharram and the Day of Ashura.doc\n../sermon_scraper/sermons-en/The Three Sacred Months The Season of Blessings.doc\n../sermon_scraper/sermons-en/The Relationship Between Faith And Deeds.doc\n../sermon_scraper/sermons-en/The Hijrah.doc\n../sermon_scraper/sermons-en/The Barakah of Business Life - Work Ethics.doc\n../sermon_scraper/sermons-en/Lailat al-Mi'raj.doc\n../sermon_scraper/sermons-en/Family - Home of Justice and Benevolence.doc\n../sermon_scraper/sermons-en/Our Irreplaceable Wealth Life.doc\n../sermon_scraper/sermons-en/Addiction is a Trap.doc\n../sermon_scraper/sermons-en/Our Unending Sorrow Jerusale And Masjid Al-Aqsa.docx\n../sermon_scraper/sermons-en/To Be A Grateful Servant.doc\n../sermon_scraper/sermons-en/Being True in Essence and Words.doc\n../sermon_scraper/sermons-en/Zakat, Increases Gaıns; Usury Consumes It.docx\n../sermon_scraper/sermons-en/Physical Privacy and Islamic Dressing.doc\n../sermon_scraper/sermons-en/Mosques Full of Children, Children Full of Qur'anic Manners.docx\n../sermon_scraper/sermons-en/The Name Of Penitence And Hope Repentance.doc\n../sermon_scraper/sermons-en/Lailat Al-Qadr The Night Honored By The Qur’an.doc\n../sermon_scraper/sermons-en/Ramadan - The Month of Fasting and Qur'an.doc\n../sermon_scraper/sermons-en/Mawlid An-Nabi.docx\n../sermon_scraper/sermons-en/ingilizce hutbe.doc\n../sermon_scraper/sermons-en/Our Fight, and Spirit of Unity and Solidarity in the Cause of Allah.docx\n../sermon_scraper/sermons-en/A Good Muslım Accordıng To The Prophet Muhammad (Saw).doc\n../sermon_scraper/sermons-en/Mosques, and Lives Dedicated in Service of Religion.doc\n../sermon_scraper/sermons-en/Our Bleeding Wound Al- Quds.docx\n../sermon_scraper/sermons-en/Fosterıng A Greater Awareness Of Natural Dısasters.doc\n../sermon_scraper/sermons-en/Some Du'as in the Words of Prophet Muhammad (saw).doc\n../sermon_scraper/sermons-en/Etiquette to Follow in Mosques and Congregation.doc\n../sermon_scraper/sermons-en/A Sacred Journey Hajj.doc\n../sermon_scraper/sermons-en/Women in Islam - Justice, Mercy And Fairness.docx\n../sermon_scraper/sermons-en/Salah - Our Struggle to Getting Closer to Allah.doc\n../sermon_scraper/sermons-en/To Stand by The Oppressed.docx\n../sermon_scraper/sermons-en/Humility Exalts Us.doc\n../sermon_scraper/sermons-en/Persecution, Doesn’t Last Forever.docx\n../sermon_scraper/sermons-en/Compassion and Kindness Language in the Family.doc\n../sermon_scraper/sermons-en/Allah Is The One Who Creates, Gives Life And Guidance.doc\n../sermon_scraper/sermons-en/Living A Life With The Awareness Of Responsibility.doc\n../sermon_scraper/sermons-en/Messages to Believers from the Beautiful Names of Allah.doc\n../sermon_scraper/sermons-en/The Glorious Resistance That Salas Bore Witness; 15 Temmuz.doc\n../sermon_scraper/sermons-en/Mosques and Life.doc\n../sermon_scraper/sermons-en/Allah The Almighty Gives Each Rightholder Their Rights.doc\n../sermon_scraper/sermons-en/Al-Quds (Jerusalem) is an Islamic Land and Belongs to Muslims.doc\n../sermon_scraper/sermons-en/Man's Journey To Perfection Islam, Faith And Beneficence.doc\n../sermon_scraper/sermons-en/The Religion Before Allah Is Islam.docx\n../sermon_scraper/sermons-en/Mawlid al-Nabi.doc\n../sermon_scraper/sermons-en/Giving A Beautiful Name – One Of The Rights Of Children On Parents.doc\n../sermon_scraper/sermons-en/The Islamic Attitude towards Calamities.doc\n../sermon_scraper/sermons-en/Summer Courses Of Qur’an And Their Importance.doc\n../sermon_scraper/sermons-en/Muslims Are Beneficent Neighbours.doc\n../sermon_scraper/sermons-en/Taking Good Care of the Elderly Makes Life Blessed.doc\n../sermon_scraper/sermons-en/Friday, The Best Day On Which.doc\n../sermon_scraper/sermons-en/Sunnah The Prophetıc Guıdance.docx\n../sermon_scraper/sermons-en/Being a Family and Remaining as a Family.doc\n../sermon_scraper/sermons-en/True Freedom Serving Allah.doc\n../sermon_scraper/sermons-en/Commemoration of the July 15 and Comprehension of the Betrayal.docx\n../sermon_scraper/sermons-en/Worship - Awareness of Servitude to Allah.docx\n../sermon_scraper/sermons-en/Effort is from Believers, Victory is from Allah.doc\n../sermon_scraper/sermons-en/Ceaseless Charity (Sadaqah Jariyah).doc\n../sermon_scraper/sermons-en/Today Is the Day of Unity and Solidarity.doc\n../sermon_scraper/sermons-en/Human, Faith and Life.doc\n../sermon_scraper/sermons-en/İng hutbe.doc\n../sermon_scraper/sermons-en/Taqwa - The Best Provision.doc\n../sermon_scraper/sermons-en/The Bridge Of Trust And Love Greeting.docx\n../sermon_scraper/sermons-en/Hunger Of Fasting Cures Greed,.docx\n../sermon_scraper/sermons-en/Only Through Goodness We Can Prevent Evil.docx\n../sermon_scraper/sermons-en/The Mosque  The City and The Civilization.docx\n../sermon_scraper/sermons-en/Our Heaven On Earth The Family.docx\n../sermon_scraper/sermons-en/Believers The Guarantee Of A Peaceful Society.doc\n../sermon_scraper/sermons-en/download.aspx?SourceUrl=%2FDinHizmetleriGenelMudurlugu%2FHutbelerListesiIngilizce%2FThe Truths We Learn From Ayat Al Kursi.docx\n../sermon_scraper/sermons-en/Lailat al-Bara'ah.doc\n../sermon_scraper/sermons-en/Sensıtıvıty To Halal And Haram.doc\n../sermon_scraper/sermons-en/Eid al-Fitr.doc\n../sermon_scraper/sermons-en/Enjoy, Waste not.docx\n../sermon_scraper/sermons-en/Preparedness Agaınst Dısasters For A Safe And Secure Lıfe.docx\n../sermon_scraper/sermons-en/Wastage is a Religious and Moral Failure.docx\n../sermon_scraper/sermons-en/Goodness Increases When Shared.doc\n../sermon_scraper/sermons-en/Iman and Its Reflections on Our Lives.doc\n../sermon_scraper/sermons-en/Cuma İngilizce Hutbe.doc\n../sermon_scraper/sermons-en/Marrıage As A Pact, Agreement, And Oath.doc\n../sermon_scraper/sermons-en/Social Harms Of İnterest.doc\n../sermon_scraper/sermons-en/Sincerity - The Essence of Faith.doc\n"
    }
   ],
   "source": [
    "print(*files, sep = '\\n')"
   ]
  },
  {
   "cell_type": "code",
   "execution_count": 367,
   "metadata": {},
   "outputs": [],
   "source": [
    "rows_list = []\n",
    "missing_list = []\n",
    "for file in files:\n",
    "    dict1 = dict.fromkeys(['date','sermon'])\n",
    "    try:\n",
    "        text = textract.process(file).decode(\"utf-8\")\n",
    "        date = dateParser(text)\n",
    "        dict1.update({'date': date, 'sermon': text}) \n",
    "        rows_list.append(dict1)\n",
    "    except: \n",
    "        missing_list.append(file)\n",
    "        continue\n",
    "        \n",
    "corpus = pd.DataFrame(rows_list)    "
   ]
  },
  {
   "cell_type": "code",
   "execution_count": 293,
   "metadata": {},
   "outputs": [
    {
     "name": "stdout",
     "output_type": "stream",
     "text": "date                                             sermon\n0    01.02.2019  \\nDATE: 01.02.2019\\n       [pic]RIFQ (GENTLENE...\n1    02.03.2018  \\nLOCATION    : NATIONWIDE\\nDATE  : 02.03.2018...\n2    27.12.2019  \\nDATE: 27.12.2019\\n                          ...\n3    25.08.2017  LOCATION\\t: NATIONWIDE\\n\\n\\tDATE\\t: 25.08.2017...\n4    25.10.2019  \\nDATE: 25.10.2019\\n[pic]\\n\\n              FOR...\n..          ...                                                ...\n138  12.04.2019  \\nDATE: 12.04.2019\\n                          ...\n139  01.09.2017  \\nLOCATION    : NATIONWIDE\\nDATE  : 01.09.2017...\n140  03.02.2017  \\n  LOCATION        : NATIONWIDE\\n  DATE : 03....\n141  23.08.2019  \\nDATE: 23.08.2019\\n[pic]\\n    SOCIAL HARMS OF...\n142  29.11.2019  \\nDATE: 29.11.2019\\n[pic]\\n    SINCERITY: THE ...\n\n[143 rows x 2 columns]\n../sermon_scraper/sermons-en/July 15 – Rebirth of a Nation.doc\n../sermon_scraper/sermons-en/Wedding Etiquette.doc\n../sermon_scraper/sermons-en/Al-Quds - Our Never-Ceasing Pain.doc\n../sermon_scraper/sermons-en/Usury - Illicit Earning.docx\n../sermon_scraper/sermons-en/Foundations - Ever-Flowing Fountains of Benevolence.doc\n../sermon_scraper/sermons-en/İngilizce.docx\n../sermon_scraper/sermons-en/.DS_Store\n../sermon_scraper/sermons-en/Spending a Life with the Awareness of Servitude to Allah.docx\n../sermon_scraper/sermons-en/Good Deeds That Lead To Allah’s Countenance.doc\n../sermon_scraper/sermons-en/Family - Home of Justice and Benevolence.doc\n../sermon_scraper/sermons-en/Lailat Al-Qadr The Night Honored By The Qur’an.doc\n../sermon_scraper/sermons-en/Ramadan - The Month of Fasting and Qur'an.doc\n../sermon_scraper/sermons-en/Giving A Beautiful Name – One Of The Rights Of Children On Parents.doc\n../sermon_scraper/sermons-en/Summer Courses Of Qur’an And Their Importance.doc\n../sermon_scraper/sermons-en/Enjoy, Waste not.docx\n"
    }
   ],
   "source": [
    "print(corpus)\n",
    "print(*missing_list, sep='\\n') #the problem is date format. ex: Jun 27"
   ]
  },
  {
   "cell_type": "code",
   "execution_count": 301,
   "metadata": {},
   "outputs": [
    {
     "name": "stdout",
     "output_type": "stream",
     "text": "DATE: June 15, 2018\n\n\t\n\nSPENDING A LIFE WITH THE AWARENESS OF SERVITUDE TO ALLAH\n\n         Jum’uah Mubarak Honorable Brothers and Sisters!\n\nOne day, Our Prophet (s.a.w.) was asked, “Which act is the most precious before Allah?” The beloved Messenger replied, “The acts most precious before Allah are those which are done continuously, even if they are small.”\n\nThis answer indicated that worship and servitude, goodness and benevolence need a balance and an order. With this answer, the Prophet of Mercy advised us to observe simplicity and continuity in worshiping Our Lord as a sign of our faith. In order to keep our awareness for servitude for a lifetime, our ties of affection with Allah Almighty needed to be regularly fed with our prayers and deeds.\n\nEstimable Brothers and Sisters!\n\nWe had an indescribable joy with the arrival of the Holy Ramadan, and we had welcomed it with great enthusiasm. We had experienced the spiritual peace of reaching the season of fasting, iftar, suhur, tarawih, and muqabala. Today, we are bidding farewell to the schooling of Ramadan which trained us, dignified us, warned us against the desires of the nafs, and encouraged us for good deeds. We are ending the month of forgiveness which equipped our souls and our tables with its riches and generosity for the whole month. May Our Lord make us of His servants who duly observed Ramadan and are honored by Ramadan. May He allow us to reach many blessed months and eids.\n\nHonorable Believers!\n\nDuring the Holy Ramadan, we stood up for salat day and night as instructed by this verse from the Qur’an,  “Certainly will the believers have succeeded. They who are during their prayer humbly submissive.” We prostrated ourselves, knowing our weakness. We questioned ourselves, we repented and we prayed. We ran for tarawih with an extra ardor, relieving not only our bodies, but also our hearts. We realized again the value of health, time, youth, a morsel of food, and a sip of water. We felt the bliss of pleasing our brothers and sisters with zakat, fitr and sadaqas.\n\nWe once again remembered the great responsibility to extend a hand to the relatives, the orphans, the refugees, the poor and the forlorn. We grasped the wisdom in Our Prophet’s (s.a.w) saying, “O Aisha, what you have distributed is our, not what you left.” when an animal had been sacrificed and its meat had been allotted and distributed.\n\nBrothers and Sisters!\n\nIn the month of forgiveness, we prayed for forgiveness and mercy from Our Lord with the good tidings of   “Indeed, He is ever Accepting of repentance.” We tried to be purified from our sins with our gratitude and prayers during iftar, and with our repentance and supplication. \n\nFollowing the divine order of  “And hold firmly to the rope of Allah (the Qur’an) all together and do not become divided.” we refrained from all kinds of disunity and discord in this season of mercy. We became one and we stood for unity, forgetting all our differences. We strengthened our brotherhood with the iftar tables we attended together, tarawih prayers we did shoulder to shoulder, and the charity activities which found abundance by sharing.\n\nDear Brothers and Sisters!\n\nNow, it is time to look after the beauties acquired from Ramadan and spread them all over the year, even the entire lifespan. It is time to set Ramadan as a starting point which disciplined our lives, refreshed our awareness of servitude, and conduced that we deploy all our material and spiritual possibilities for the goodness of humanity. It is time to follow the Holy Qur’an, which reminds us that our responsibility will continue until our last breath as enjoined in this verse, “And worship your Lord until there comes to you the certainty (death).” \n\nEstimable Muslims!\n\nLet us make the peace and awareness of Ramadan rule over our lives. Let us maintain our ties with our Holy Book–the Qur’an. Let us continue frequenting the mosques with our families just as we did in Ramadan, and do not leave the masjids in gloom. Let us stand by everybody who needs our love, compassion, attention, and support. Let us earnestly avoid words and behaviors which undermine our unity and solidarity and weaken us by playing us against each other. May Allah ordain all of us to protect the legacy of Ramadan, and to have good morals and to be constant in worshipping.\n"
    },
    {
     "ename": "UnboundLocalError",
     "evalue": "local variable 'date_str' referenced before assignment",
     "output_type": "error",
     "traceback": [
      "\u001b[0;31m---------------------------------------------------------------------------\u001b[0m",
      "\u001b[0;31mUnboundLocalError\u001b[0m                         Traceback (most recent call last)",
      "\u001b[0;32m<ipython-input-301-97f8e55cc6f6>\u001b[0m in \u001b[0;36m<module>\u001b[0;34m\u001b[0m\n\u001b[1;32m      1\u001b[0m \u001b[0ma\u001b[0m \u001b[0;34m=\u001b[0m \u001b[0mtextract\u001b[0m\u001b[0;34m.\u001b[0m\u001b[0mprocess\u001b[0m\u001b[0;34m(\u001b[0m\u001b[0mmissing_list\u001b[0m\u001b[0;34m[\u001b[0m\u001b[0;36m7\u001b[0m\u001b[0;34m]\u001b[0m\u001b[0;34m)\u001b[0m\u001b[0;34m.\u001b[0m\u001b[0mdecode\u001b[0m\u001b[0;34m(\u001b[0m\u001b[0;34m\"utf-8\"\u001b[0m\u001b[0;34m)\u001b[0m\u001b[0;34m\u001b[0m\u001b[0;34m\u001b[0m\u001b[0m\n\u001b[1;32m      2\u001b[0m \u001b[0mprint\u001b[0m\u001b[0;34m(\u001b[0m\u001b[0ma\u001b[0m\u001b[0;34m)\u001b[0m\u001b[0;34m\u001b[0m\u001b[0;34m\u001b[0m\u001b[0m\n\u001b[0;32m----> 3\u001b[0;31m \u001b[0mprint\u001b[0m\u001b[0;34m(\u001b[0m\u001b[0mdateParser\u001b[0m\u001b[0;34m(\u001b[0m\u001b[0ma\u001b[0m\u001b[0;34m)\u001b[0m\u001b[0;34m)\u001b[0m\u001b[0;34m\u001b[0m\u001b[0;34m\u001b[0m\u001b[0m\n\u001b[0m",
      "\u001b[0;32m<ipython-input-291-a27267aa3969>\u001b[0m in \u001b[0;36mdateParser\u001b[0;34m(text)\u001b[0m\n\u001b[1;32m      5\u001b[0m             \u001b[0mdate_str\u001b[0m \u001b[0;34m=\u001b[0m \u001b[0;34m\"\"\u001b[0m\u001b[0;34m.\u001b[0m\u001b[0mjoin\u001b[0m\u001b[0;34m(\u001b[0m\u001b[0mletters\u001b[0m\u001b[0;34m)\u001b[0m\u001b[0;34m\u001b[0m\u001b[0;34m\u001b[0m\u001b[0m\n\u001b[1;32m      6\u001b[0m \u001b[0;34m\u001b[0m\u001b[0m\n\u001b[0;32m----> 7\u001b[0;31m     \u001b[0;32mreturn\u001b[0m\u001b[0;34m(\u001b[0m\u001b[0mdate_str\u001b[0m\u001b[0;34m)\u001b[0m\u001b[0;34m\u001b[0m\u001b[0;34m\u001b[0m\u001b[0m\n\u001b[0m",
      "\u001b[0;31mUnboundLocalError\u001b[0m: local variable 'date_str' referenced before assignment"
     ]
    }
   ],
   "source": [
    "a = textract.process(missing_list[7]).decode(\"utf-8\")\n",
    "print(a)\n",
    "print(dateParser(a))"
   ]
  },
  {
   "cell_type": "code",
   "execution_count": 368,
   "metadata": {},
   "outputs": [],
   "source": [
    "corpus.date = pd.to_datetime(corpus.date, dayfirst=True)"
   ]
  },
  {
   "cell_type": "code",
   "execution_count": 370,
   "metadata": {},
   "outputs": [
    {
     "data": {
      "text/html": "<div>\n<style scoped>\n    .dataframe tbody tr th:only-of-type {\n        vertical-align: middle;\n    }\n\n    .dataframe tbody tr th {\n        vertical-align: top;\n    }\n\n    .dataframe thead th {\n        text-align: right;\n    }\n</style>\n<table border=\"1\" class=\"dataframe\">\n  <thead>\n    <tr style=\"text-align: right;\">\n      <th></th>\n      <th>date</th>\n      <th>sermon</th>\n    </tr>\n  </thead>\n  <tbody>\n    <tr>\n      <th>0</th>\n      <td>2019-02-01</td>\n      <td>\\nDATE: 01.02.2019\\n       [pic]RIFQ (GENTLENE...</td>\n    </tr>\n    <tr>\n      <th>1</th>\n      <td>2018-03-02</td>\n      <td>\\nLOCATION    : NATIONWIDE\\nDATE  : 02.03.2018...</td>\n    </tr>\n    <tr>\n      <th>2</th>\n      <td>2019-12-27</td>\n      <td>\\nDATE: 27.12.2019\\n                          ...</td>\n    </tr>\n    <tr>\n      <th>3</th>\n      <td>2017-08-25</td>\n      <td>LOCATION\\t: NATIONWIDE\\n\\n\\tDATE\\t: 25.08.2017...</td>\n    </tr>\n    <tr>\n      <th>4</th>\n      <td>2019-10-25</td>\n      <td>\\nDATE: 25.10.2019\\n[pic]\\n\\n              FOR...</td>\n    </tr>\n    <tr>\n      <th>...</th>\n      <td>...</td>\n      <td>...</td>\n    </tr>\n    <tr>\n      <th>138</th>\n      <td>2019-04-12</td>\n      <td>\\nDATE: 12.04.2019\\n                          ...</td>\n    </tr>\n    <tr>\n      <th>139</th>\n      <td>2017-09-01</td>\n      <td>\\nLOCATION    : NATIONWIDE\\nDATE  : 01.09.2017...</td>\n    </tr>\n    <tr>\n      <th>140</th>\n      <td>2017-02-03</td>\n      <td>\\n  LOCATION        : NATIONWIDE\\n  DATE : 03....</td>\n    </tr>\n    <tr>\n      <th>141</th>\n      <td>2019-08-23</td>\n      <td>\\nDATE: 23.08.2019\\n[pic]\\n    SOCIAL HARMS OF...</td>\n    </tr>\n    <tr>\n      <th>142</th>\n      <td>2019-11-29</td>\n      <td>\\nDATE: 29.11.2019\\n[pic]\\n    SINCERITY: THE ...</td>\n    </tr>\n  </tbody>\n</table>\n<p>143 rows × 2 columns</p>\n</div>",
      "text/plain": "          date                                             sermon\n0   2019-02-01  \\nDATE: 01.02.2019\\n       [pic]RIFQ (GENTLENE...\n1   2018-03-02  \\nLOCATION    : NATIONWIDE\\nDATE  : 02.03.2018...\n2   2019-12-27  \\nDATE: 27.12.2019\\n                          ...\n3   2017-08-25  LOCATION\\t: NATIONWIDE\\n\\n\\tDATE\\t: 25.08.2017...\n4   2019-10-25  \\nDATE: 25.10.2019\\n[pic]\\n\\n              FOR...\n..         ...                                                ...\n138 2019-04-12  \\nDATE: 12.04.2019\\n                          ...\n139 2017-09-01  \\nLOCATION    : NATIONWIDE\\nDATE  : 01.09.2017...\n140 2017-02-03  \\n  LOCATION        : NATIONWIDE\\n  DATE : 03....\n141 2019-08-23  \\nDATE: 23.08.2019\\n[pic]\\n    SOCIAL HARMS OF...\n142 2019-11-29  \\nDATE: 29.11.2019\\n[pic]\\n    SINCERITY: THE ...\n\n[143 rows x 2 columns]"
     },
     "execution_count": 370,
     "metadata": {},
     "output_type": "execute_result"
    }
   ],
   "source": [
    "corpus"
   ]
  },
  {
   "cell_type": "code",
   "execution_count": null,
   "metadata": {},
   "outputs": [],
   "source": []
  }
 ]
}