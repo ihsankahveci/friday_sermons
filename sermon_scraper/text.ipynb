{
 "nbformat": 4,
 "nbformat_minor": 2,
 "metadata": {
  "language_info": {
   "name": "python",
   "codemirror_mode": {
    "name": "ipython",
    "version": 3
   },
   "version": "3.7.6-final"
  },
  "orig_nbformat": 2,
  "file_extension": ".py",
  "mimetype": "text/x-python",
  "name": "python",
  "npconvert_exporter": "python",
  "pygments_lexer": "ipython3",
  "version": 3,
  "kernelspec": {
   "name": "python37664bitseleniumconda1f12d67c5d30468ea99f892fbd3ea3e1",
   "display_name": "Python 3.7.6 64-bit ('selenium': conda)"
  }
 },
 "cells": [
  {
   "cell_type": "code",
   "execution_count": 20,
   "metadata": {},
   "outputs": [],
   "source": [
    "import textract\n",
    "import pandas as pd \n",
    "import numpy as np \n",
    "from pathlib import Path\n",
    "import re\n",
    "from datetime import datetime"
   ]
  },
  {
   "cell_type": "code",
   "execution_count": 21,
   "metadata": {},
   "outputs": [],
   "source": [
    "def dateParser(text):\n",
    "    for i in range(1,100,1):\n",
    "        if text[i] == ':' and (text[i+5] in ['0','1','2','3','4','5','6','7','8','9']):\n",
    "            letters = [text[i+j] for j in range(2,12)]\n",
    "            date_str = \"\".join(letters) \n",
    "    \n",
    "    return(date_str)\n"
   ]
  },
  {
   "cell_type": "code",
   "execution_count": 22,
   "metadata": {},
   "outputs": [],
   "source": [
    "entries = Path('../sermon_scraper/sermons-en')\n",
    "\n",
    "files = [entry for entry in entries.iterdir() if entry.is_file() if entry != '../sermon_scraper/sermons-en/.DS_Store']"
   ]
  },
  {
   "cell_type": "code",
   "execution_count": 23,
   "metadata": {},
   "outputs": [
    {
     "name": "stdout",
     "output_type": "stream",
     "text": "159\n../sermon_scraper/sermons-en/Rifq (Gentleness) - Allah Loves Graciousness in All Affairs.doc\n../sermon_scraper/sermons-en/Ethics Of Commerce In Islam.doc\n../sermon_scraper/sermons-en/A Life Full of Contemplation.doc\n../sermon_scraper/sermons-en/Sacrıfıce, The Search For Beıng Close To Allah.docx\n../sermon_scraper/sermons-en/For Our Soldiers (Mehmetçik) Are All Our Prayers.doc\n../sermon_scraper/sermons-en/The First Message Of Revelation To Humanity Read!.doc\n../sermon_scraper/sermons-en/Funeral Etiquette - Last Duties for the Traveler of the Eternal Life.doc\n../sermon_scraper/sermons-en/Worship & The Spiritual World.doc\n../sermon_scraper/sermons-en/Preservation of Family Environment - A Righteous and Peaceful Future.docx\n../sermon_scraper/sermons-en/July 15 – Rebirth of a Nation.doc\n../sermon_scraper/sermons-en/Al-Quds - Our Never-Ceasing Pain.doc\n../sermon_scraper/sermons-en/MERCY AND FORGIVENESS DOOR REPENTANCE.doc\n../sermon_scraper/sermons-en/Ramadan and Infaq.doc\n../sermon_scraper/sermons-en/Faith in Allah.doc\n../sermon_scraper/sermons-en/The Turkish Victory Of The Battle Of Gallipoli And The Esprit De Corps,.doc\n../sermon_scraper/sermons-en/Usury - Illicit Earning.docx\n../sermon_scraper/sermons-en/A Blessing Worth the Worlds - Health.doc\n../sermon_scraper/sermons-en/İng hutbe2.doc\n../sermon_scraper/sermons-en/The Way Of Making Life Livable Religion And Spirituality.doc\n../sermon_scraper/sermons-en/Today, We Unite Against Terrorism.doc\n../sermon_scraper/sermons-en/Pure Food, Pure Generation.doc\n../sermon_scraper/sermons-en/Believer, The Role Model.doc\n../sermon_scraper/sermons-en/Wise Pieces Of Advıce.docx\n../sermon_scraper/sermons-en/İngilizce.docx\n../sermon_scraper/sermons-en/Material and Spiritual Purification - Cleanliness.doc\n../sermon_scraper/sermons-en/Let Us Protect Our Home Planet Earth.doc\n../sermon_scraper/sermons-en/.DS_Store\n../sermon_scraper/sermons-en/Individual and Public Rights.docx\n../sermon_scraper/sermons-en/Haya’ (Pious Shyness) The Essence Of Islamic Morality.docx\n../sermon_scraper/sermons-en/The Mawlid al-Nabi.doc\n../sermon_scraper/sermons-en/Eid Al Adha..doc\n../sermon_scraper/sermons-en/False Beliefs and Superstitions.doc\n../sermon_scraper/sermons-en/Are Those Who Know Equal With Those Who Know Not.docx\n../sermon_scraper/sermons-en/Turn To Your Lord Alone With Hope!.docx\n../sermon_scraper/sermons-en/Our Hope For Tomorrow Children.doc\n../sermon_scraper/sermons-en/Muslims Are Precursors of Knowledge and Civilization.doc\n../sermon_scraper/sermons-en/Our Nation’s Struggle For Existence The Victory Of Çanakkale.docx\n../sermon_scraper/sermons-en/This Homeland is Ours and under Our Protection.doc\n../sermon_scraper/sermons-en/Every Soul Has A Right Upon Us.doc\n../sermon_scraper/sermons-en/To Be a Responsible Father.doc\n../sermon_scraper/sermons-en/Faithful Servants Of The Compassionate.docx\n../sermon_scraper/sermons-en/Divine Yeast Of Existence Mercy.docx\n../sermon_scraper/sermons-en/Opfertierschlachten Gibt Anlass Für Annährung An Allah.doc\n../sermon_scraper/sermons-en/Making Our Whole Life Ramadan.docx\n../sermon_scraper/sermons-en/Kurban İNgilizce.docx\n../sermon_scraper/sermons-en/~$ilat Al-Qadr The Night Honored By The Qur’an.doc\n../sermon_scraper/sermons-en/Working Enriches Our Lives.doc\n../sermon_scraper/sermons-en/Facts Taught By Surah Al-Asr.docx\n../sermon_scraper/sermons-en/Ethıcs Of Trade And Commerce.doc\n../sermon_scraper/sermons-en/Lailat Al-Qadr The Night Honored By The Qur’an.docx\n../sermon_scraper/sermons-en/Friday Prayer And Its Customs.docx\n../sermon_scraper/sermons-en/The Bond between Allah and His Servants.doc\n../sermon_scraper/sermons-en/The Inviolable Right to Life.doc\n../sermon_scraper/sermons-en/A Dagger In The Back Of Brotherhood Backbiting.doc\n../sermon_scraper/sermons-en/The Prophet And Safe Society.docx\n../sermon_scraper/sermons-en/Neglecting Prayer Is A Great Loss.doc\n../sermon_scraper/sermons-en/Inheriting Al Firdaws.docx\n../sermon_scraper/sermons-en/The test of our faith and humanity - The refugees.doc\n../sermon_scraper/sermons-en/The Thing That Increases By Sharing Goodness.doc\n../sermon_scraper/sermons-en/To Be Able To Be A Servant Allah Loves.doc\n../sermon_scraper/sermons-en/Welcome the Month of Ramadan.doc\n../sermon_scraper/sermons-en/Jihad - The Struggle In Allah’s Cause With One’s Life And Wealth_Revised.doc\n../sermon_scraper/sermons-en/Spending a Life with the Awareness of Servitude to Allah.docx\n../sermon_scraper/sermons-en/Wedding Etiquette.docx\n../sermon_scraper/sermons-en/Secularization Delight In The Temporary Life.doc\n../sermon_scraper/sermons-en/The Qur'an and the Sunnah Are An Inseparable Whole.doc\n../sermon_scraper/sermons-en/Make Sacrifice for Your Lord.doc\n../sermon_scraper/sermons-en/Çanakkale Where Martyrs Made History.doc\n../sermon_scraper/sermons-en/Technology Addiction and Social Media Ethics.doc\n../sermon_scraper/sermons-en/Towards the Spiritual Climate of the Three Holy Months.doc\n../sermon_scraper/sermons-en/Epitome Of Insincerity Hypocrisy.doc\n../sermon_scraper/sermons-en/Family - Home of Justice and Benevolence.docx\n../sermon_scraper/sermons-en/The Believer Trusts Others And Is Trusted.doc\n../sermon_scraper/sermons-en/Let’s Learn Quran In The Month Of Quran.doc\n../sermon_scraper/sermons-en/Those Who Forget Allah Will Be Forgotten.docx\n../sermon_scraper/sermons-en/Best Description Of Refuge In Allah Surah Al-Mu'awwidhatan.docx\n../sermon_scraper/sermons-en/To Stand By The Truth, And Against The Falsehood.doc\n../sermon_scraper/sermons-en/Good Deeds That Lead To Allah’s Countenance.doc\n../sermon_scraper/sermons-en/Adding Barakah to Our Brotherhood with Zakat and Sadaqah al-Fitr.doc\n../sermon_scraper/sermons-en/The Bond Allah Wants Us To Maintain Family Ties.docx\n../sermon_scraper/sermons-en/The Month of Muharram and the Day of Ashura.doc\n../sermon_scraper/sermons-en/The Three Sacred Months The Season of Blessings.doc\n../sermon_scraper/sermons-en/The Relationship Between Faith And Deeds.doc\n../sermon_scraper/sermons-en/The Hijrah.doc\n../sermon_scraper/sermons-en/The Barakah of Business Life - Work Ethics.doc\n../sermon_scraper/sermons-en/Lailat al-Mi'raj.doc\n../sermon_scraper/sermons-en/Our Irreplaceable Wealth Life.doc\n../sermon_scraper/sermons-en/Addiction is a Trap.doc\n../sermon_scraper/sermons-en/Our Unending Sorrow Jerusale And Masjid Al-Aqsa.docx\n../sermon_scraper/sermons-en/To Be A Grateful Servant.doc\n../sermon_scraper/sermons-en/Being True in Essence and Words.doc\n../sermon_scraper/sermons-en/Zakat, Increases Gaıns; Usury Consumes It.docx\n../sermon_scraper/sermons-en/Physical Privacy and Islamic Dressing.doc\n../sermon_scraper/sermons-en/Mosques Full of Children, Children Full of Qur'anic Manners.docx\n../sermon_scraper/sermons-en/The Name Of Penitence And Hope Repentance.doc\n../sermon_scraper/sermons-en/Ramadan - The Month of Fasting and Qur'an.doc\n../sermon_scraper/sermons-en/Mawlid An-Nabi.docx\n../sermon_scraper/sermons-en/ingilizce hutbe.doc\n../sermon_scraper/sermons-en/Our Fight, and Spirit of Unity and Solidarity in the Cause of Allah.docx\n../sermon_scraper/sermons-en/A Good Muslım Accordıng To The Prophet Muhammad (Saw).doc\n../sermon_scraper/sermons-en/Mosques, and Lives Dedicated in Service of Religion.doc\n../sermon_scraper/sermons-en/Foundations - Ever-Flowing Fountains of Benevolence.docx\n../sermon_scraper/sermons-en/Our Bleeding Wound Al- Quds.docx\n../sermon_scraper/sermons-en/Fosterıng A Greater Awareness Of Natural Dısasters.doc\n../sermon_scraper/sermons-en/Some Du'as in the Words of Prophet Muhammad (saw).doc\n../sermon_scraper/sermons-en/Etiquette to Follow in Mosques and Congregation.doc\n../sermon_scraper/sermons-en/A Sacred Journey Hajj.doc\n../sermon_scraper/sermons-en/Women in Islam - Justice, Mercy And Fairness.docx\n../sermon_scraper/sermons-en/Salah - Our Struggle to Getting Closer to Allah.doc\n../sermon_scraper/sermons-en/To Stand by The Oppressed.docx\n../sermon_scraper/sermons-en/Humility Exalts Us.doc\n../sermon_scraper/sermons-en/Persecution, Doesn’t Last Forever.docx\n../sermon_scraper/sermons-en/Compassion and Kindness Language in the Family.doc\n../sermon_scraper/sermons-en/Allah Is The One Who Creates, Gives Life And Guidance.doc\n../sermon_scraper/sermons-en/Living A Life With The Awareness Of Responsibility.doc\n../sermon_scraper/sermons-en/Messages to Believers from the Beautiful Names of Allah.doc\n../sermon_scraper/sermons-en/The Glorious Resistance That Salas Bore Witness; 15 Temmuz.doc\n../sermon_scraper/sermons-en/Mosques and Life.doc\n../sermon_scraper/sermons-en/Allah The Almighty Gives Each Rightholder Their Rights.doc\n../sermon_scraper/sermons-en/Al-Quds (Jerusalem) is an Islamic Land and Belongs to Muslims.doc\n../sermon_scraper/sermons-en/Man's Journey To Perfection Islam, Faith And Beneficence.doc\n../sermon_scraper/sermons-en/The Religion Before Allah Is Islam.docx\n../sermon_scraper/sermons-en/Mawlid al-Nabi.doc\n../sermon_scraper/sermons-en/Giving A Beautiful Name – One Of The Rights Of Children On Parents.doc\n../sermon_scraper/sermons-en/The Islamic Attitude towards Calamities.doc\n../sermon_scraper/sermons-en/Summer Courses Of Qur’an And Their Importance.doc\n../sermon_scraper/sermons-en/Muslims Are Beneficent Neighbours.doc\n../sermon_scraper/sermons-en/Taking Good Care of the Elderly Makes Life Blessed.doc\n../sermon_scraper/sermons-en/Friday, The Best Day On Which.doc\n../sermon_scraper/sermons-en/Sunnah The Prophetıc Guıdance.docx\n../sermon_scraper/sermons-en/Being a Family and Remaining as a Family.doc\n../sermon_scraper/sermons-en/True Freedom Serving Allah.doc\n../sermon_scraper/sermons-en/Commemoration of the July 15 and Comprehension of the Betrayal.docx\n../sermon_scraper/sermons-en/Worship - Awareness of Servitude to Allah.docx\n../sermon_scraper/sermons-en/Effort is from Believers, Victory is from Allah.doc\n../sermon_scraper/sermons-en/Ceaseless Charity (Sadaqah Jariyah).doc\n../sermon_scraper/sermons-en/Today Is the Day of Unity and Solidarity.doc\n../sermon_scraper/sermons-en/Human, Faith and Life.doc\n../sermon_scraper/sermons-en/İng hutbe.doc\n../sermon_scraper/sermons-en/Taqwa - The Best Provision.doc\n../sermon_scraper/sermons-en/The Bridge Of Trust And Love Greeting.docx\n../sermon_scraper/sermons-en/Hunger Of Fasting Cures Greed,.docx\n../sermon_scraper/sermons-en/Only Through Goodness We Can Prevent Evil.docx\n../sermon_scraper/sermons-en/The Mosque  The City and The Civilization.docx\n../sermon_scraper/sermons-en/Our Heaven On Earth The Family.docx\n../sermon_scraper/sermons-en/Believers The Guarantee Of A Peaceful Society.doc\n../sermon_scraper/sermons-en/download.aspx?SourceUrl=%2FDinHizmetleriGenelMudurlugu%2FHutbelerListesiIngilizce%2FThe Truths We Learn From Ayat Al Kursi.docx\n../sermon_scraper/sermons-en/Lailat al-Bara'ah.doc\n../sermon_scraper/sermons-en/Sensıtıvıty To Halal And Haram.doc\n../sermon_scraper/sermons-en/Eid al-Fitr.doc\n../sermon_scraper/sermons-en/Enjoy, Waste not.docx\n../sermon_scraper/sermons-en/Preparedness Agaınst Dısasters For A Safe And Secure Lıfe.docx\n../sermon_scraper/sermons-en/Wastage is a Religious and Moral Failure.docx\n../sermon_scraper/sermons-en/Goodness Increases When Shared.doc\n../sermon_scraper/sermons-en/Iman and Its Reflections on Our Lives.doc\n../sermon_scraper/sermons-en/Cuma İngilizce Hutbe.doc\n../sermon_scraper/sermons-en/Marrıage As A Pact, Agreement, And Oath.doc\n../sermon_scraper/sermons-en/Social Harms Of İnterest.doc\n../sermon_scraper/sermons-en/Sincerity - The Essence of Faith.doc\n"
    }
   ],
   "source": [
    "print(len(files))\n",
    "print(*files, sep = '\\n')"
   ]
  },
  {
   "cell_type": "code",
   "execution_count": 24,
   "metadata": {},
   "outputs": [],
   "source": [
    "rows_list = []\n",
    "missing_list = []\n",
    "for file in files:\n",
    "    dict1 = dict.fromkeys(['date','sermon']) \n",
    "    try:\n",
    "        text = textract.process(file).decode(\"utf-8\")\n",
    "        date = dateParser(text)\n",
    "        dict1.update({'date': date, 'sermon': text}) \n",
    "        rows_list.append(dict1)\n",
    "    except: \n",
    "        missing_list.append(file)\n",
    "        continue\n",
    "        \n",
    "corpus = pd.DataFrame(rows_list)    "
   ]
  },
  {
   "cell_type": "code",
   "execution_count": 25,
   "metadata": {},
   "outputs": [
    {
     "name": "stdout",
     "output_type": "stream",
     "text": "date                                             sermon\n0    01.02.2019  \\nDATE: 01.02.2019\\n       [pic]RIFQ (GENTLENE...\n1    02.03.2018  \\nLOCATION    : NATIONWIDE\\nDATE  : 02.03.2018...\n2    27.12.2019  \\nDATE: 27.12.2019\\n                          ...\n3    25.08.2017  LOCATION\\t: NATIONWIDE\\n\\n\\tDATE\\t: 25.08.2017...\n4    25.10.2019  \\nDATE: 25.10.2019\\n[pic]\\n\\n              FOR...\n..          ...                                                ...\n150  12.04.2019  \\nDATE: 12.04.2019\\n                          ...\n151  01.09.2017  \\nLOCATION    : NATIONWIDE\\nDATE  : 01.09.2017...\n152  03.02.2017  \\n  LOCATION        : NATIONWIDE\\n  DATE : 03....\n153  23.08.2019  \\nDATE: 23.08.2019\\n[pic]\\n    SOCIAL HARMS OF...\n154  29.11.2019  \\nDATE: 29.11.2019\\n[pic]\\n    SINCERITY: THE ...\n\n[155 rows x 2 columns]\n../sermon_scraper/sermons-en/.DS_Store\n../sermon_scraper/sermons-en/~$ilat Al-Qadr The Night Honored By The Qur’an.doc\n../sermon_scraper/sermons-en/Lailat Al-Qadr The Night Honored By The Qur’an.docx\n../sermon_scraper/sermons-en/Wedding Etiquette.docx\n"
    }
   ],
   "source": [
    "print(corpus)\n",
    "print(*missing_list, sep='\\n') #the problem is date format. ex: Jun 27"
   ]
  },
  {
   "cell_type": "code",
   "execution_count": 30,
   "metadata": {},
   "outputs": [
    {
     "name": "stdout",
     "output_type": "stream",
     "text": "DATE :  20.07.2018\n\n\t\n\n\t         WEDDING ETIQUETTE\n\n\tJumu’ah Mubarak Honorable Believers!\n\nOur Prophet (s.a.w.) married his dear daughter Fatimah and his uncle’s son Ali in the second year of his the Hijrah to Madinah. Fatimah’s dowry consisted of just a piece velvet, a lyster bag and a pillow filled with a redolent herb called idhkhir. Fatimah’s wedding dinner was just as plain and humble as her bridewealth (mahr) and dowry. Despite that, those who witnessed the Prophet’s (s.a.w.) daughter’s wedding said, “We have not seen a more beautiful wedding than this.”\n\nHonorable Believers!\n\nMarriage is the order of Allah (s.w.t.) and the Sunnah of our Prophet (s.a.w.). It is a precious beginning that leads someone to peace, happiness, blessing and heaven in both this world and afterlife. As expressed by our Prophet (s.a.w.) words marriage is the means “to protect the half of religion.”\n\nOur first step to marriage, our weddings are the ceremonies that take place with our loved ones’ best wishes and their presence. Establishment of a new family is announced with a wedding; two lives get united at one home. Hopes regarding the future get stronger, joys of life are shared. Everybody prays to Allah (s.w.t.) for healthy, benevolent generations, habituation, affection and mercy.\n\nMy Dear Brother and Sisters!\n\nOur beloved Prophet (s.a.w.), who was an example to his ummah with his life, prayed for newlyweds, saying “May Allah (s.w.t.) make this wedding blessed for you.” He allowed for decent entertainment in joyful and happy wedding occasions. As such; unpretentious, modest, warm and moderate wedding ceremonies are of his Sunnah because one of the most important measures of life for believers is to avoid extravagancy. Being balanced is always essential in servitude to Allah (s.w.t.), in happiness, anger, sorrow, and entertainment.\n\nDear Muslims!\n\nThe Holy Qur’an asks believers to support each other in the matter of marriage and starting a family, our Prophet (s.a.w.) heralded that Allah (s.w.t) will help those who intend to marry. What is essential in Islam is to facilitate marriage. Therefore, forgetting our Prophet’s (s.a.w) principle that says “The most fruitful wedding is the one with least burden.” usually causes material and moral damages. Redundant wedding spending at every stage to marriage put families into trouble. Young people who want to marry get into trouble because wedding expenses are over reasonable limits, even avoid marriage just because of that. Paying debts for a long time after wedding causes a family’s early years to pass in financial distress and unrest. However, in simplicity there is nobility, and in humbleness there is wisdom.\n\nVenerable Muslims!\n\nOur Prophet (s.a.w.) advised one of his newlywed companions to “Give a wedding dinner even with only a sheep.” However, our wedding dinners, which are supposed to be where our friends meet and share happiness, should not turn into the tables of squander, vanity and gaudiness. Our Prophet (s.a.w.) demanded not to make any difference between rich and poor while making wedding invitations. He described wedding dinners which invited the rich but forgot the poor as “the worst meal.” \n\nDear Muslims!\n\nWhat is appropriate for believers is to act according to what Islam deemed rightful in our marriage, engagement, circumcision and wedding ceremonies. Being temperate and balanced in entertainment is to observe Islamic principles, and to obey the following expression of Allah (s.w.t.) by heart: “O you who have believed, do not prohibit the good things which Allah (s.w.t.) has made lawful to you and do not transgress. Indeed, Allah does not like transgressors.”\n\nA believer cannot be slack about haram actions by taking shelter in the excuse of “his or her children’s happiness.” A believer does not resort to mind-numbing things like alcohol, drugs and guns which turn happiness to sorrow, or does not violate anyone’s privacy while pursuing happiness. A believer does not violate anyone’s rights or disturb anyone in entertainment. A believer lives every moment with the awareness that Allah (s.w.t.) sees and observes him every moment. A believer praises Allah (s.w.t.) and acts in line with the approval of Allah (s.w.t.).\n\nBrothers and Sisters!\n\nLet us stay away from actions that could shadow our happiness in these months of frequent weddings, in which our children get married. Let us be careful about sinking into material passions, and plunging into pleasure and debauchery when making a wedding ceremony. Let us not be the captives of luxury and wastefulness on such occasions. Let us remember that life does not consist of joy and entertainment only. Let us turn our wedding ceremonies into opportunities to praise Allah (s.w.t.) who “created for us from ourselves mates that we may find tranquility in them; placed between us affection and mercy.”\n"
    },
    {
     "ename": "UnboundLocalError",
     "evalue": "local variable 'date_str' referenced before assignment",
     "output_type": "error",
     "traceback": [
      "\u001b[0;31m---------------------------------------------------------------------------\u001b[0m",
      "\u001b[0;31mUnboundLocalError\u001b[0m                         Traceback (most recent call last)",
      "\u001b[0;32m<ipython-input-30-1d0a20e2668e>\u001b[0m in \u001b[0;36m<module>\u001b[0;34m\u001b[0m\n\u001b[1;32m      1\u001b[0m \u001b[0ma\u001b[0m \u001b[0;34m=\u001b[0m \u001b[0mtextract\u001b[0m\u001b[0;34m.\u001b[0m\u001b[0mprocess\u001b[0m\u001b[0;34m(\u001b[0m\u001b[0mmissing_list\u001b[0m\u001b[0;34m[\u001b[0m\u001b[0;36m3\u001b[0m\u001b[0;34m]\u001b[0m\u001b[0;34m)\u001b[0m\u001b[0;34m.\u001b[0m\u001b[0mdecode\u001b[0m\u001b[0;34m(\u001b[0m\u001b[0;34m\"utf-8\"\u001b[0m\u001b[0;34m)\u001b[0m\u001b[0;34m\u001b[0m\u001b[0;34m\u001b[0m\u001b[0m\n\u001b[1;32m      2\u001b[0m \u001b[0mprint\u001b[0m\u001b[0;34m(\u001b[0m\u001b[0ma\u001b[0m\u001b[0;34m)\u001b[0m\u001b[0;34m\u001b[0m\u001b[0;34m\u001b[0m\u001b[0m\n\u001b[0;32m----> 3\u001b[0;31m \u001b[0mdateParser\u001b[0m\u001b[0;34m(\u001b[0m\u001b[0ma\u001b[0m\u001b[0;34m)\u001b[0m\u001b[0;34m\u001b[0m\u001b[0;34m\u001b[0m\u001b[0m\n\u001b[0m",
      "\u001b[0;32m<ipython-input-21-a27267aa3969>\u001b[0m in \u001b[0;36mdateParser\u001b[0;34m(text)\u001b[0m\n\u001b[1;32m      5\u001b[0m             \u001b[0mdate_str\u001b[0m \u001b[0;34m=\u001b[0m \u001b[0;34m\"\"\u001b[0m\u001b[0;34m.\u001b[0m\u001b[0mjoin\u001b[0m\u001b[0;34m(\u001b[0m\u001b[0mletters\u001b[0m\u001b[0;34m)\u001b[0m\u001b[0;34m\u001b[0m\u001b[0;34m\u001b[0m\u001b[0m\n\u001b[1;32m      6\u001b[0m \u001b[0;34m\u001b[0m\u001b[0m\n\u001b[0;32m----> 7\u001b[0;31m     \u001b[0;32mreturn\u001b[0m\u001b[0;34m(\u001b[0m\u001b[0mdate_str\u001b[0m\u001b[0;34m)\u001b[0m\u001b[0;34m\u001b[0m\u001b[0;34m\u001b[0m\u001b[0m\n\u001b[0m",
      "\u001b[0;31mUnboundLocalError\u001b[0m: local variable 'date_str' referenced before assignment"
     ]
    }
   ],
   "source": [
    "a = textract.process(missing_list[3]).decode(\"utf-8\")\n",
    "print(a)\n",
    "dateParser(a)"
   ]
  },
  {
   "cell_type": "code",
   "execution_count": null,
   "metadata": {},
   "outputs": [],
   "source": [
    "corpus.date = pd.to_datetime(corpus.date, dayfirst=True)"
   ]
  },
  {
   "cell_type": "code",
   "execution_count": null,
   "metadata": {},
   "outputs": [],
   "source": [
    "corpus"
   ]
  },
  {
   "cell_type": "code",
   "execution_count": null,
   "metadata": {},
   "outputs": [],
   "source": []
  }
 ]
}